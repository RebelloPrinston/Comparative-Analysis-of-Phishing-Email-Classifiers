{
  "cells": [
    {
      "cell_type": "markdown",
      "metadata": {
        "id": "LSDoQAHkZVUj"
      },
      "source": [
        "# Phishing Email Classification"
      ]
    },
    {
      "cell_type": "markdown",
      "metadata": {
        "id": "ZJjIbxF8Wxpo"
      },
      "source": [
        "### Import modules"
      ]
    },
    {
      "cell_type": "code",
      "execution_count": 1,
      "metadata": {
        "id": "PxrDNniFWxpr"
      },
      "outputs": [],
      "source": [
        "# Preprocessing\n",
        "from sklearn.preprocessing import LabelEncoder\n",
        "\n",
        "# Vectorizer\n",
        "from sklearn.feature_extraction.text import TfidfVectorizer\n",
        "\n",
        "# Model\n",
        "from sklearn.model_selection import train_test_split\n",
        "from sklearn.ensemble import RandomForestClassifier\n",
        "from sklearn.svm import SVC\n",
        "from sklearn.metrics import accuracy_score, confusion_matrix, classification_report\n",
        "from sklearn.model_selection import KFold\n",
        "from sklearn.pipeline import Pipeline\n",
        "from xgboost import XGBClassifier\n",
        "\n",
        "# Data Wrangling\n",
        "import pandas as pd\n",
        "\n",
        "# Data Visualization\n",
        "import seaborn as sb\n",
        "import matplotlib.pyplot as mplt"
      ]
    },
    {
      "cell_type": "markdown",
      "metadata": {
        "id": "lHY73D9LWxpv"
      },
      "source": [
        "### Import Dataset"
      ]
    },
    {
      "cell_type": "code",
      "execution_count": 2,
      "metadata": {
        "colab": {
          "base_uri": "https://localhost:8080/",
          "height": 206
        },
        "id": "5o_N3oWrWxpw",
        "outputId": "192bbb05-2841-431a-d589-7e43b8b206f3"
      },
      "outputs": [
        {
          "data": {
            "text/html": [
              "<div>\n",
              "<style scoped>\n",
              "    .dataframe tbody tr th:only-of-type {\n",
              "        vertical-align: middle;\n",
              "    }\n",
              "\n",
              "    .dataframe tbody tr th {\n",
              "        vertical-align: top;\n",
              "    }\n",
              "\n",
              "    .dataframe thead th {\n",
              "        text-align: right;\n",
              "    }\n",
              "</style>\n",
              "<table border=\"1\" class=\"dataframe\">\n",
              "  <thead>\n",
              "    <tr style=\"text-align: right;\">\n",
              "      <th></th>\n",
              "      <th>Unnamed: 0</th>\n",
              "      <th>Email Text</th>\n",
              "      <th>Email Type</th>\n",
              "    </tr>\n",
              "  </thead>\n",
              "  <tbody>\n",
              "    <tr>\n",
              "      <th>0</th>\n",
              "      <td>0</td>\n",
              "      <td>re : 6 . 1100 , disc : uniformitarianism , re ...</td>\n",
              "      <td>Safe Email</td>\n",
              "    </tr>\n",
              "    <tr>\n",
              "      <th>1</th>\n",
              "      <td>1</td>\n",
              "      <td>the other side of * galicismos * * galicismo *...</td>\n",
              "      <td>Safe Email</td>\n",
              "    </tr>\n",
              "    <tr>\n",
              "      <th>2</th>\n",
              "      <td>2</td>\n",
              "      <td>re : equistar deal tickets are you still avail...</td>\n",
              "      <td>Safe Email</td>\n",
              "    </tr>\n",
              "    <tr>\n",
              "      <th>3</th>\n",
              "      <td>3</td>\n",
              "      <td>\\r\\nHello I am your hot lil horny toy.\\r\\n    ...</td>\n",
              "      <td>Phishing Email</td>\n",
              "    </tr>\n",
              "    <tr>\n",
              "      <th>4</th>\n",
              "      <td>4</td>\n",
              "      <td>software at incredibly low prices ( 86 % lower...</td>\n",
              "      <td>Phishing Email</td>\n",
              "    </tr>\n",
              "  </tbody>\n",
              "</table>\n",
              "</div>"
            ],
            "text/plain": [
              "   Unnamed: 0                                         Email Text  \\\n",
              "0           0  re : 6 . 1100 , disc : uniformitarianism , re ...   \n",
              "1           1  the other side of * galicismos * * galicismo *...   \n",
              "2           2  re : equistar deal tickets are you still avail...   \n",
              "3           3  \\r\\nHello I am your hot lil horny toy.\\r\\n    ...   \n",
              "4           4  software at incredibly low prices ( 86 % lower...   \n",
              "\n",
              "       Email Type  \n",
              "0      Safe Email  \n",
              "1      Safe Email  \n",
              "2      Safe Email  \n",
              "3  Phishing Email  \n",
              "4  Phishing Email  "
            ]
          },
          "execution_count": 2,
          "metadata": {},
          "output_type": "execute_result"
        }
      ],
      "source": [
        "phishing_dt = pd.read_csv(\"./Phishing_Email.csv\")\n",
        "phishing_dt.head()"
      ]
    },
    {
      "cell_type": "markdown",
      "metadata": {
        "id": "RCWvvEJoWxpy"
      },
      "source": [
        "This dataset contains records where `Email Text` is set to `empty`. Such records will be removed during pre-processing as it is not helpful for the classification task."
      ]
    },
    {
      "cell_type": "markdown",
      "metadata": {
        "id": "PlnjmEYjWxpy"
      },
      "source": [
        "Create a copy of the dataset for pre-processing"
      ]
    },
    {
      "cell_type": "code",
      "execution_count": 3,
      "metadata": {
        "colab": {
          "base_uri": "https://localhost:8080/"
        },
        "id": "l25iL4eLWxpz",
        "outputId": "898072a5-c845-42c5-fc11-865a54ed6831"
      },
      "outputs": [
        {
          "name": "stdout",
          "output_type": "stream",
          "text": [
            "Dataset shape = (18650, 3)\n"
          ]
        }
      ],
      "source": [
        "cleansed_phishing_dt = phishing_dt.copy()\n",
        "print(f\"Dataset shape = {cleansed_phishing_dt.shape}\")"
      ]
    },
    {
      "cell_type": "markdown",
      "metadata": {
        "id": "sPpokV2lWxp0"
      },
      "source": [
        "Print the no. of records with `null` or `NA` values"
      ]
    },
    {
      "cell_type": "code",
      "execution_count": 4,
      "metadata": {
        "colab": {
          "base_uri": "https://localhost:8080/"
        },
        "id": "LstCGxoZWxp0",
        "outputId": "849f4964-ee3d-4319-c6d8-e5f53acce313"
      },
      "outputs": [
        {
          "data": {
            "text/plain": [
              "Unnamed: 0     0\n",
              "Email Text    16\n",
              "Email Type     0\n",
              "dtype: int64"
            ]
          },
          "execution_count": 4,
          "metadata": {},
          "output_type": "execute_result"
        }
      ],
      "source": [
        "cleansed_phishing_dt.isna().sum()"
      ]
    },
    {
      "cell_type": "markdown",
      "metadata": {
        "id": "UpHzSP9MWxp1"
      },
      "source": [
        "Print the no. of records where `Email Text = empty`"
      ]
    },
    {
      "cell_type": "code",
      "execution_count": 5,
      "metadata": {
        "colab": {
          "base_uri": "https://localhost:8080/"
        },
        "id": "gnruevYxWxp1",
        "outputId": "67854e0d-30be-4435-d2fc-6c931e16cf06"
      },
      "outputs": [
        {
          "name": "stdout",
          "output_type": "stream",
          "text": [
            "No. of records with 'Email Text' = 'empty': 533\n"
          ]
        }
      ],
      "source": [
        "print(f\"No. of records with 'Email Text' = 'empty': {cleansed_phishing_dt[cleansed_phishing_dt['Email Text'] == 'empty'].shape[0]}\")"
      ]
    },
    {
      "cell_type": "markdown",
      "metadata": {
        "id": "R85VNIzaWxp2"
      },
      "source": [
        "### Pre-process data"
      ]
    },
    {
      "cell_type": "markdown",
      "metadata": {
        "id": "mc6HukFFWxp2"
      },
      "source": [
        "Records with `Email Text = empty` will not be helpful for classification. So, these values will be replaced with `NA` and the `pd.dropna()` function will be invoked to cleanse the dataset."
      ]
    },
    {
      "cell_type": "code",
      "execution_count": 6,
      "metadata": {
        "colab": {
          "base_uri": "https://localhost:8080/"
        },
        "id": "EigXlxbAWxp3",
        "outputId": "50f49965-66e9-47e9-aba8-fbbf5af93e26"
      },
      "outputs": [
        {
          "data": {
            "text/plain": [
              "Unnamed: 0    0\n",
              "Email Text    0\n",
              "Email Type    0\n",
              "dtype: int64"
            ]
          },
          "execution_count": 6,
          "metadata": {},
          "output_type": "execute_result"
        }
      ],
      "source": [
        "cleansed_phishing_dt.replace('empty', pd.NA, inplace=True)\n",
        "cleansed_phishing_dt = cleansed_phishing_dt.dropna()\n",
        "cleansed_phishing_dt.isna().sum()"
      ]
    },
    {
      "cell_type": "markdown",
      "metadata": {
        "id": "FmTVTIojWxp3"
      },
      "source": [
        "Shape of cleansed dataset"
      ]
    },
    {
      "cell_type": "code",
      "execution_count": 7,
      "metadata": {
        "colab": {
          "base_uri": "https://localhost:8080/"
        },
        "id": "2daQHj2mWxp4",
        "outputId": "003ede7a-f92a-44a4-db2e-e24c679da3a9"
      },
      "outputs": [
        {
          "name": "stdout",
          "output_type": "stream",
          "text": [
            "Dataset shape = (18101, 3)\n"
          ]
        }
      ],
      "source": [
        "print(f\"Dataset shape = {cleansed_phishing_dt.shape}\")"
      ]
    },
    {
      "cell_type": "markdown",
      "metadata": {
        "id": "btb2gVNBWxp4"
      },
      "source": [
        "Get equal no. of samples of `Safe` and `Phishing` emails"
      ]
    },
    {
      "cell_type": "code",
      "execution_count": 8,
      "metadata": {
        "colab": {
          "base_uri": "https://localhost:8080/",
          "height": 206
        },
        "id": "7plo8rzwWxp5",
        "outputId": "c562319e-acaf-41cf-83bf-acaf6be7c5f6"
      },
      "outputs": [
        {
          "data": {
            "text/html": [
              "<div>\n",
              "<style scoped>\n",
              "    .dataframe tbody tr th:only-of-type {\n",
              "        vertical-align: middle;\n",
              "    }\n",
              "\n",
              "    .dataframe tbody tr th {\n",
              "        vertical-align: top;\n",
              "    }\n",
              "\n",
              "    .dataframe thead th {\n",
              "        text-align: right;\n",
              "    }\n",
              "</style>\n",
              "<table border=\"1\" class=\"dataframe\">\n",
              "  <thead>\n",
              "    <tr style=\"text-align: right;\">\n",
              "      <th></th>\n",
              "      <th>Unnamed: 0</th>\n",
              "      <th>Email Text</th>\n",
              "      <th>Email Type</th>\n",
              "    </tr>\n",
              "  </thead>\n",
              "  <tbody>\n",
              "    <tr>\n",
              "      <th>0</th>\n",
              "      <td>11031</td>\n",
              "      <td>eurogp ' 99 call for papers eurogp ' 99 second...</td>\n",
              "      <td>Safe Email</td>\n",
              "    </tr>\n",
              "    <tr>\n",
              "      <th>1</th>\n",
              "      <td>5664</td>\n",
              "      <td>re : 3 . 376 help re : iaupe ? hay alguien que...</td>\n",
              "      <td>Safe Email</td>\n",
              "    </tr>\n",
              "    <tr>\n",
              "      <th>2</th>\n",
              "      <td>17321</td>\n",
              "      <td>brent notes sally here is a rough draft of my ...</td>\n",
              "      <td>Safe Email</td>\n",
              "    </tr>\n",
              "    <tr>\n",
              "      <th>3</th>\n",
              "      <td>9199</td>\n",
              "      <td>vilem mathesius lecture series 13 - prague , n...</td>\n",
              "      <td>Safe Email</td>\n",
              "    </tr>\n",
              "    <tr>\n",
              "      <th>4</th>\n",
              "      <td>3974</td>\n",
              "      <td>duke energy trading and marketing , l . l . c ...</td>\n",
              "      <td>Safe Email</td>\n",
              "    </tr>\n",
              "  </tbody>\n",
              "</table>\n",
              "</div>"
            ],
            "text/plain": [
              "   Unnamed: 0                                         Email Text  Email Type\n",
              "0       11031  eurogp ' 99 call for papers eurogp ' 99 second...  Safe Email\n",
              "1        5664  re : 3 . 376 help re : iaupe ? hay alguien que...  Safe Email\n",
              "2       17321  brent notes sally here is a rough draft of my ...  Safe Email\n",
              "3        9199  vilem mathesius lecture series 13 - prague , n...  Safe Email\n",
              "4        3974  duke energy trading and marketing , l . l . c ...  Safe Email"
            ]
          },
          "execution_count": 8,
          "metadata": {},
          "output_type": "execute_result"
        }
      ],
      "source": [
        "safe = cleansed_phishing_dt[cleansed_phishing_dt['Email Type'] == 'Safe Email']\n",
        "phishing = cleansed_phishing_dt[cleansed_phishing_dt['Email Type'] == 'Phishing Email']\n",
        "safe = safe.sample(phishing.shape[0])\n",
        "sample_data = pd.concat([safe, phishing], ignore_index=True)\n",
        "sample_data.head()"
      ]
    },
    {
      "cell_type": "markdown",
      "metadata": {
        "id": "Ys0K4mIvWxp5"
      },
      "source": [
        "### Split dataset into `train` and `test` sets"
      ]
    },
    {
      "cell_type": "code",
      "execution_count": 9,
      "metadata": {
        "id": "xlzZoiZOWxp6"
      },
      "outputs": [],
      "source": [
        "X = sample_data['Email Text'].values\n",
        "y = sample_data['Email Type'].values\n",
        "X_train, X_test, y_train, y_test = train_test_split(X, y, test_size=0.33, random_state=23)"
      ]
    },
    {
      "cell_type": "markdown",
      "metadata": {
        "id": "1pU7zCFdXqzu"
      },
      "source": [
        "## Perform classification"
      ]
    },
    {
      "cell_type": "markdown",
      "metadata": {
        "id": "9tVAAjPFWxp6"
      },
      "source": [
        "### Random Forest Classifier\n"
      ]
    },
    {
      "cell_type": "markdown",
      "metadata": {
        "id": "-56KJSltWxp7"
      },
      "source": [
        "Training the Classifier\n"
      ]
    },
    {
      "cell_type": "code",
      "execution_count": 10,
      "metadata": {
        "colab": {
          "base_uri": "https://localhost:8080/",
          "height": 126
        },
        "id": "aKhNbHNPWxp7",
        "outputId": "2601c64b-3d60-4df4-c468-bbd2da3e7687"
      },
      "outputs": [
        {
          "data": {
            "text/html": [
              "<style>#sk-container-id-1 {color: black;}#sk-container-id-1 pre{padding: 0;}#sk-container-id-1 div.sk-toggleable {background-color: white;}#sk-container-id-1 label.sk-toggleable__label {cursor: pointer;display: block;width: 100%;margin-bottom: 0;padding: 0.3em;box-sizing: border-box;text-align: center;}#sk-container-id-1 label.sk-toggleable__label-arrow:before {content: \"▸\";float: left;margin-right: 0.25em;color: #696969;}#sk-container-id-1 label.sk-toggleable__label-arrow:hover:before {color: black;}#sk-container-id-1 div.sk-estimator:hover label.sk-toggleable__label-arrow:before {color: black;}#sk-container-id-1 div.sk-toggleable__content {max-height: 0;max-width: 0;overflow: hidden;text-align: left;background-color: #f0f8ff;}#sk-container-id-1 div.sk-toggleable__content pre {margin: 0.2em;color: black;border-radius: 0.25em;background-color: #f0f8ff;}#sk-container-id-1 input.sk-toggleable__control:checked~div.sk-toggleable__content {max-height: 200px;max-width: 100%;overflow: auto;}#sk-container-id-1 input.sk-toggleable__control:checked~label.sk-toggleable__label-arrow:before {content: \"▾\";}#sk-container-id-1 div.sk-estimator input.sk-toggleable__control:checked~label.sk-toggleable__label {background-color: #d4ebff;}#sk-container-id-1 div.sk-label input.sk-toggleable__control:checked~label.sk-toggleable__label {background-color: #d4ebff;}#sk-container-id-1 input.sk-hidden--visually {border: 0;clip: rect(1px 1px 1px 1px);clip: rect(1px, 1px, 1px, 1px);height: 1px;margin: -1px;overflow: hidden;padding: 0;position: absolute;width: 1px;}#sk-container-id-1 div.sk-estimator {font-family: monospace;background-color: #f0f8ff;border: 1px dotted black;border-radius: 0.25em;box-sizing: border-box;margin-bottom: 0.5em;}#sk-container-id-1 div.sk-estimator:hover {background-color: #d4ebff;}#sk-container-id-1 div.sk-parallel-item::after {content: \"\";width: 100%;border-bottom: 1px solid gray;flex-grow: 1;}#sk-container-id-1 div.sk-label:hover label.sk-toggleable__label {background-color: #d4ebff;}#sk-container-id-1 div.sk-serial::before {content: \"\";position: absolute;border-left: 1px solid gray;box-sizing: border-box;top: 0;bottom: 0;left: 50%;z-index: 0;}#sk-container-id-1 div.sk-serial {display: flex;flex-direction: column;align-items: center;background-color: white;padding-right: 0.2em;padding-left: 0.2em;position: relative;}#sk-container-id-1 div.sk-item {position: relative;z-index: 1;}#sk-container-id-1 div.sk-parallel {display: flex;align-items: stretch;justify-content: center;background-color: white;position: relative;}#sk-container-id-1 div.sk-item::before, #sk-container-id-1 div.sk-parallel-item::before {content: \"\";position: absolute;border-left: 1px solid gray;box-sizing: border-box;top: 0;bottom: 0;left: 50%;z-index: -1;}#sk-container-id-1 div.sk-parallel-item {display: flex;flex-direction: column;z-index: 1;position: relative;background-color: white;}#sk-container-id-1 div.sk-parallel-item:first-child::after {align-self: flex-end;width: 50%;}#sk-container-id-1 div.sk-parallel-item:last-child::after {align-self: flex-start;width: 50%;}#sk-container-id-1 div.sk-parallel-item:only-child::after {width: 0;}#sk-container-id-1 div.sk-dashed-wrapped {border: 1px dashed gray;margin: 0 0.4em 0.5em 0.4em;box-sizing: border-box;padding-bottom: 0.4em;background-color: white;}#sk-container-id-1 div.sk-label label {font-family: monospace;font-weight: bold;display: inline-block;line-height: 1.2em;}#sk-container-id-1 div.sk-label-container {text-align: center;}#sk-container-id-1 div.sk-container {/* jupyter's `normalize.less` sets `[hidden] { display: none; }` but bootstrap.min.css set `[hidden] { display: none !important; }` so we also need the `!important` here to be able to override the default hidden behavior on the sphinx rendered scikit-learn.org. See: https://github.com/scikit-learn/scikit-learn/issues/21755 */display: inline-block !important;position: relative;}#sk-container-id-1 div.sk-text-repr-fallback {display: none;}</style><div id=\"sk-container-id-1\" class=\"sk-top-container\"><div class=\"sk-text-repr-fallback\"><pre>Pipeline(steps=[(&#x27;tfidf&#x27;, TfidfVectorizer()),\n",
              "                (&#x27;classifier&#x27;,\n",
              "                 RandomForestClassifier(n_estimators=10, random_state=23))])</pre><b>In a Jupyter environment, please rerun this cell to show the HTML representation or trust the notebook. <br />On GitHub, the HTML representation is unable to render, please try loading this page with nbviewer.org.</b></div><div class=\"sk-container\" hidden><div class=\"sk-item sk-dashed-wrapped\"><div class=\"sk-label-container\"><div class=\"sk-label sk-toggleable\"><input class=\"sk-toggleable__control sk-hidden--visually\" id=\"sk-estimator-id-1\" type=\"checkbox\" ><label for=\"sk-estimator-id-1\" class=\"sk-toggleable__label sk-toggleable__label-arrow\">Pipeline</label><div class=\"sk-toggleable__content\"><pre>Pipeline(steps=[(&#x27;tfidf&#x27;, TfidfVectorizer()),\n",
              "                (&#x27;classifier&#x27;,\n",
              "                 RandomForestClassifier(n_estimators=10, random_state=23))])</pre></div></div></div><div class=\"sk-serial\"><div class=\"sk-item\"><div class=\"sk-estimator sk-toggleable\"><input class=\"sk-toggleable__control sk-hidden--visually\" id=\"sk-estimator-id-2\" type=\"checkbox\" ><label for=\"sk-estimator-id-2\" class=\"sk-toggleable__label sk-toggleable__label-arrow\">TfidfVectorizer</label><div class=\"sk-toggleable__content\"><pre>TfidfVectorizer()</pre></div></div></div><div class=\"sk-item\"><div class=\"sk-estimator sk-toggleable\"><input class=\"sk-toggleable__control sk-hidden--visually\" id=\"sk-estimator-id-3\" type=\"checkbox\" ><label for=\"sk-estimator-id-3\" class=\"sk-toggleable__label sk-toggleable__label-arrow\">RandomForestClassifier</label><div class=\"sk-toggleable__content\"><pre>RandomForestClassifier(n_estimators=10, random_state=23)</pre></div></div></div></div></div></div></div>"
            ],
            "text/plain": [
              "Pipeline(steps=[('tfidf', TfidfVectorizer()),\n",
              "                ('classifier',\n",
              "                 RandomForestClassifier(n_estimators=10, random_state=23))])"
            ]
          },
          "execution_count": 10,
          "metadata": {},
          "output_type": "execute_result"
        }
      ],
      "source": [
        "classifier = Pipeline([(\"tfidf\", TfidfVectorizer()), (\"classifier\", RandomForestClassifier(n_estimators=10, random_state=23))])\n",
        "classifier.fit(X_train, y_train)"
      ]
    },
    {
      "cell_type": "markdown",
      "metadata": {
        "id": "AUiU5sw6Wxp7"
      },
      "source": [
        "Testing the Classifier\n"
      ]
    },
    {
      "cell_type": "code",
      "execution_count": 11,
      "metadata": {
        "id": "caQiobcLWxp8"
      },
      "outputs": [],
      "source": [
        "rf_y_pred = classifier.predict(X_test)"
      ]
    },
    {
      "cell_type": "markdown",
      "metadata": {
        "id": "wAxj8fTGWxp8"
      },
      "source": [
        "Model Accuracy\n"
      ]
    },
    {
      "cell_type": "code",
      "execution_count": 12,
      "metadata": {
        "colab": {
          "base_uri": "https://localhost:8080/"
        },
        "id": "NFAJeOF3Wxp9",
        "outputId": "dbe101d9-f4ea-4563-8365-1bced2a0e8b1"
      },
      "outputs": [
        {
          "name": "stdout",
          "output_type": "stream",
          "text": [
            "The Random Forest Classifier has an accuracy of 0.9454940282301846\n"
          ]
        }
      ],
      "source": [
        "rf_accuracy = accuracy_score(y_test, rf_y_pred)\n",
        "phishing_confusion_matrix = confusion_matrix(y_test, rf_y_pred)\n",
        "\n",
        "print(f\"The Random Forest Classifier has an accuracy of {rf_accuracy}\")"
      ]
    },
    {
      "cell_type": "markdown",
      "metadata": {
        "id": "KFjcll8JWxp-"
      },
      "source": [
        "Heatmap visualization of the Confusion Matrix"
      ]
    },
    {
      "cell_type": "code",
      "execution_count": 13,
      "metadata": {
        "colab": {
          "base_uri": "https://localhost:8080/",
          "height": 481
        },
        "id": "YHxfnq_TWxp-",
        "outputId": "ae8c758d-72b2-4a8c-ce65-bd9166c4f76a"
      },
      "outputs": [
        {
          "data": {
            "image/png": "[encoded data removed]",
            "text/plain": [
              "<Figure size 640x480 with 2 Axes>"
            ]
          },
          "metadata": {},
          "output_type": "display_data"
        }
      ],
      "source": [
        "sb.heatmap(\n",
        "    phishing_confusion_matrix,\n",
        "    annot=True,\n",
        "    fmt=\"g\",\n",
        "    xticklabels=[\"Safe\", \"Phishing\"],\n",
        "    yticklabels=[\"Safe\", \"Phishing\"],\n",
        ")\n",
        "mplt.ylabel(\"Prediction\", fontsize=13)\n",
        "mplt.xlabel(\"Actual\", fontsize=13)\n",
        "mplt.title(\"Random Forest Classifier Confusion Matrix\", fontsize=17)\n",
        "mplt.show()"
      ]
    },
    {
      "cell_type": "markdown",
      "metadata": {
        "id": "X8S4ECsCWxp_"
      },
      "source": [
        "### SVC\n"
      ]
    },
    {
      "cell_type": "markdown",
      "metadata": {
        "id": "XNLulXlnWxp_"
      },
      "source": [
        "Creating the SVC"
      ]
    },
    {
      "cell_type": "code",
      "execution_count": 14,
      "metadata": {
        "id": "TGuEsCaUWxqA"
      },
      "outputs": [],
      "source": [
        "svc = Pipeline([(\"tfidf\", TfidfVectorizer()), (\"SVC\", SVC(C=100, gamma=\"auto\"))])"
      ]
    },
    {
      "cell_type": "markdown",
      "metadata": {
        "id": "1BwmOEtnWxqA"
      },
      "source": [
        "Training the SVC"
      ]
    },
    {
      "cell_type": "code",
      "execution_count": 15,
      "metadata": {
        "colab": {
          "base_uri": "https://localhost:8080/",
          "height": 126
        },
        "id": "Z6rta6Y_WxqB",
        "outputId": "7c0d9919-5a06-4186-e882-1b97cf8e6dac"
      },
      "outputs": [
        {
          "data": {
            "text/html": [
              "<style>#sk-container-id-2 {color: black;}#sk-container-id-2 pre{padding: 0;}#sk-container-id-2 div.sk-toggleable {background-color: white;}#sk-container-id-2 label.sk-toggleable__label {cursor: pointer;display: block;width: 100%;margin-bottom: 0;padding: 0.3em;box-sizing: border-box;text-align: center;}#sk-container-id-2 label.sk-toggleable__label-arrow:before {content: \"▸\";float: left;margin-right: 0.25em;color: #696969;}#sk-container-id-2 label.sk-toggleable__label-arrow:hover:before {color: black;}#sk-container-id-2 div.sk-estimator:hover label.sk-toggleable__label-arrow:before {color: black;}#sk-container-id-2 div.sk-toggleable__content {max-height: 0;max-width: 0;overflow: hidden;text-align: left;background-color: #f0f8ff;}#sk-container-id-2 div.sk-toggleable__content pre {margin: 0.2em;color: black;border-radius: 0.25em;background-color: #f0f8ff;}#sk-container-id-2 input.sk-toggleable__control:checked~div.sk-toggleable__content {max-height: 200px;max-width: 100%;overflow: auto;}#sk-container-id-2 input.sk-toggleable__control:checked~label.sk-toggleable__label-arrow:before {content: \"▾\";}#sk-container-id-2 div.sk-estimator input.sk-toggleable__control:checked~label.sk-toggleable__label {background-color: #d4ebff;}#sk-container-id-2 div.sk-label input.sk-toggleable__control:checked~label.sk-toggleable__label {background-color: #d4ebff;}#sk-container-id-2 input.sk-hidden--visually {border: 0;clip: rect(1px 1px 1px 1px);clip: rect(1px, 1px, 1px, 1px);height: 1px;margin: -1px;overflow: hidden;padding: 0;position: absolute;width: 1px;}#sk-container-id-2 div.sk-estimator {font-family: monospace;background-color: #f0f8ff;border: 1px dotted black;border-radius: 0.25em;box-sizing: border-box;margin-bottom: 0.5em;}#sk-container-id-2 div.sk-estimator:hover {background-color: #d4ebff;}#sk-container-id-2 div.sk-parallel-item::after {content: \"\";width: 100%;border-bottom: 1px solid gray;flex-grow: 1;}#sk-container-id-2 div.sk-label:hover label.sk-toggleable__label {background-color: #d4ebff;}#sk-container-id-2 div.sk-serial::before {content: \"\";position: absolute;border-left: 1px solid gray;box-sizing: border-box;top: 0;bottom: 0;left: 50%;z-index: 0;}#sk-container-id-2 div.sk-serial {display: flex;flex-direction: column;align-items: center;background-color: white;padding-right: 0.2em;padding-left: 0.2em;position: relative;}#sk-container-id-2 div.sk-item {position: relative;z-index: 1;}#sk-container-id-2 div.sk-parallel {display: flex;align-items: stretch;justify-content: center;background-color: white;position: relative;}#sk-container-id-2 div.sk-item::before, #sk-container-id-2 div.sk-parallel-item::before {content: \"\";position: absolute;border-left: 1px solid gray;box-sizing: border-box;top: 0;bottom: 0;left: 50%;z-index: -1;}#sk-container-id-2 div.sk-parallel-item {display: flex;flex-direction: column;z-index: 1;position: relative;background-color: white;}#sk-container-id-2 div.sk-parallel-item:first-child::after {align-self: flex-end;width: 50%;}#sk-container-id-2 div.sk-parallel-item:last-child::after {align-self: flex-start;width: 50%;}#sk-container-id-2 div.sk-parallel-item:only-child::after {width: 0;}#sk-container-id-2 div.sk-dashed-wrapped {border: 1px dashed gray;margin: 0 0.4em 0.5em 0.4em;box-sizing: border-box;padding-bottom: 0.4em;background-color: white;}#sk-container-id-2 div.sk-label label {font-family: monospace;font-weight: bold;display: inline-block;line-height: 1.2em;}#sk-container-id-2 div.sk-label-container {text-align: center;}#sk-container-id-2 div.sk-container {/* jupyter's `normalize.less` sets `[hidden] { display: none; }` but bootstrap.min.css set `[hidden] { display: none !important; }` so we also need the `!important` here to be able to override the default hidden behavior on the sphinx rendered scikit-learn.org. See: https://github.com/scikit-learn/scikit-learn/issues/21755 */display: inline-block !important;position: relative;}#sk-container-id-2 div.sk-text-repr-fallback {display: none;}</style><div id=\"sk-container-id-2\" class=\"sk-top-container\"><div class=\"sk-text-repr-fallback\"><pre>Pipeline(steps=[(&#x27;tfidf&#x27;, TfidfVectorizer()),\n",
              "                (&#x27;SVC&#x27;, SVC(C=100, gamma=&#x27;auto&#x27;))])</pre><b>In a Jupyter environment, please rerun this cell to show the HTML representation or trust the notebook. <br />On GitHub, the HTML representation is unable to render, please try loading this page with nbviewer.org.</b></div><div class=\"sk-container\" hidden><div class=\"sk-item sk-dashed-wrapped\"><div class=\"sk-label-container\"><div class=\"sk-label sk-toggleable\"><input class=\"sk-toggleable__control sk-hidden--visually\" id=\"sk-estimator-id-4\" type=\"checkbox\" ><label for=\"sk-estimator-id-4\" class=\"sk-toggleable__label sk-toggleable__label-arrow\">Pipeline</label><div class=\"sk-toggleable__content\"><pre>Pipeline(steps=[(&#x27;tfidf&#x27;, TfidfVectorizer()),\n",
              "                (&#x27;SVC&#x27;, SVC(C=100, gamma=&#x27;auto&#x27;))])</pre></div></div></div><div class=\"sk-serial\"><div class=\"sk-item\"><div class=\"sk-estimator sk-toggleable\"><input class=\"sk-toggleable__control sk-hidden--visually\" id=\"sk-estimator-id-5\" type=\"checkbox\" ><label for=\"sk-estimator-id-5\" class=\"sk-toggleable__label sk-toggleable__label-arrow\">TfidfVectorizer</label><div class=\"sk-toggleable__content\"><pre>TfidfVectorizer()</pre></div></div></div><div class=\"sk-item\"><div class=\"sk-estimator sk-toggleable\"><input class=\"sk-toggleable__control sk-hidden--visually\" id=\"sk-estimator-id-6\" type=\"checkbox\" ><label for=\"sk-estimator-id-6\" class=\"sk-toggleable__label sk-toggleable__label-arrow\">SVC</label><div class=\"sk-toggleable__content\"><pre>SVC(C=100, gamma=&#x27;auto&#x27;)</pre></div></div></div></div></div></div></div>"
            ],
            "text/plain": [
              "Pipeline(steps=[('tfidf', TfidfVectorizer()),\n",
              "                ('SVC', SVC(C=100, gamma='auto'))])"
            ]
          },
          "execution_count": 15,
          "metadata": {},
          "output_type": "execute_result"
        }
      ],
      "source": [
        "svc.fit(X_train, y_train)"
      ]
    },
    {
      "cell_type": "markdown",
      "metadata": {
        "id": "Mtxvm28YWxqC"
      },
      "source": [
        "Testing the SVC"
      ]
    },
    {
      "cell_type": "code",
      "execution_count": 16,
      "metadata": {
        "id": "tnV7uEzUWxqC"
      },
      "outputs": [],
      "source": [
        "svc_y_pred = svc.predict(X_test)"
      ]
    },
    {
      "cell_type": "markdown",
      "metadata": {
        "id": "P50-JrzWWxqC"
      },
      "source": [
        "Accuracy"
      ]
    },
    {
      "cell_type": "code",
      "execution_count": 17,
      "metadata": {
        "colab": {
          "base_uri": "https://localhost:8080/"
        },
        "id": "_ex2qbn3WxqD",
        "outputId": "3fd45107-e5b2-4e65-9d9d-0bd0637c8970"
      },
      "outputs": [
        {
          "name": "stdout",
          "output_type": "stream",
          "text": [
            "The SVC has an accuracy of 0.4998914223669924\n"
          ]
        }
      ],
      "source": [
        "svc_accuracy = accuracy_score(y_test, svc_y_pred)\n",
        "svc_confusion_matrix = confusion_matrix(y_test, svc_y_pred)\n",
        "\n",
        "print(f'The SVC has an accuracy of {svc_accuracy}')"
      ]
    },
    {
      "cell_type": "markdown",
      "metadata": {
        "id": "jHyyaNEeWxqD"
      },
      "source": [
        "Heatmap visualization of the Confusion Matrix"
      ]
    },
    {
      "cell_type": "code",
      "execution_count": 18,
      "metadata": {
        "colab": {
          "base_uri": "https://localhost:8080/",
          "height": 481
        },
        "id": "hbDixWzEWxqW",
        "outputId": "e64d0097-2a36-4d26-ac74-3bc577971924"
      },
      "outputs": [
        {
          "data": {
            "image/png": "[encoded data removed]",
            "text/plain": [
              "<Figure size 640x480 with 2 Axes>"
            ]
          },
          "metadata": {},
          "output_type": "display_data"
        }
      ],
      "source": [
        "sb.heatmap(\n",
        "    svc_confusion_matrix,\n",
        "    annot=True,\n",
        "    fmt=\"g\",\n",
        "    xticklabels=[\"Safe\", \"Phishing\"],\n",
        "    yticklabels=[\"Safe\", \"Phishing\"],\n",
        ")\n",
        "mplt.ylabel(\"Prediction\", fontsize=13)\n",
        "mplt.xlabel(\"Actual\", fontsize=13)\n",
        "mplt.title(\"SVC Confusion Matrix\", fontsize=17)\n",
        "mplt.show()"
      ]
    },
    {
      "cell_type": "markdown",
      "metadata": {
        "id": "llTVOBS5WxqX"
      },
      "source": [
        "### XGB Classifier"
      ]
    },
    {
      "cell_type": "markdown",
      "metadata": {
        "id": "NXJcVsr2WxqX"
      },
      "source": [
        "Creating a helper function"
      ]
    },
    {
      "cell_type": "code",
      "execution_count": 19,
      "metadata": {
        "id": "BXfLauQfWxqY"
      },
      "outputs": [],
      "source": [
        "def print_report(y_val, y_pred, fold):\n",
        "    print(f'Fold: {fold}')\n",
        "    print(f'Accuracy Score: {accuracy_score(y_val, y_pred)}')\n",
        "    print(f'Confusion Matrix: \\n {confusion_matrix(y_val, y_pred)}')\n",
        "    print(f'Classification Report: \\n {classification_report(y_val, y_pred)}')"
      ]
    },
    {
      "cell_type": "markdown",
      "metadata": {
        "id": "PUVKY0jEWxqY"
      },
      "source": [
        "Define LabelEncoder and KFold for the XGB Classifier"
      ]
    },
    {
      "cell_type": "code",
      "execution_count": 20,
      "metadata": {
        "id": "V2Oey_RrWxqZ"
      },
      "outputs": [],
      "source": [
        "label_encoder = LabelEncoder()\n",
        "kfold = KFold(n_splits=5, shuffle=True, random_state=23)"
      ]
    },
    {
      "cell_type": "markdown",
      "metadata": {
        "id": "Gf1qX0XFWxqZ"
      },
      "source": [
        "Prepare data for XGB Classifier"
      ]
    },
    {
      "cell_type": "code",
      "execution_count": 21,
      "metadata": {
        "id": "KvlDrLe_Wxqa"
      },
      "outputs": [],
      "source": [
        "xgb_sample_data = sample_data.copy()\n",
        "xgb_sample_data.replace('Phishing Email', 1, inplace=True)\n",
        "xgb_sample_data.replace('Safe Email', 0, inplace=True)\n",
        "\n",
        "X_xgb = xgb_sample_data['Email Text'].values\n",
        "y_xgb = xgb_sample_data['Email Type'].values\n",
        "\n",
        "y_encoded = label_encoder.fit_transform(y)"
      ]
    },
    {
      "cell_type": "markdown",
      "metadata": {
        "id": "MTENNtmJWxqa"
      },
      "source": [
        "Training and Testing the XGB Classifier"
      ]
    },
    {
      "cell_type": "code",
      "execution_count": 22,
      "metadata": {
        "colab": {
          "base_uri": "https://localhost:8080/"
        },
        "id": "Koe9zQ4uWxqb",
        "outputId": "8dce64fa-ed68-4105-fbee-b087bbd42a92"
      },
      "outputs": [
        {
          "name": "stdout",
          "output_type": "stream",
          "text": [
            "Fold: 1\n",
            "Accuracy Score: 0.9552131852382658\n",
            "Confusion Matrix: \n",
            " [[1367   42]\n",
            " [  83 1299]]\n",
            "Classification Report: \n",
            "               precision    recall  f1-score   support\n",
            "\n",
            "           0       0.94      0.97      0.96      1409\n",
            "           1       0.97      0.94      0.95      1382\n",
            "\n",
            "    accuracy                           0.96      2791\n",
            "   macro avg       0.96      0.96      0.96      2791\n",
            "weighted avg       0.96      0.96      0.96      2791\n",
            "\n",
            "Fold: 2\n",
            "Accuracy Score: 0.9466141168040129\n",
            "Confusion Matrix: \n",
            " [[1358   46]\n",
            " [ 103 1284]]\n",
            "Classification Report: \n",
            "               precision    recall  f1-score   support\n",
            "\n",
            "           0       0.93      0.97      0.95      1404\n",
            "           1       0.97      0.93      0.95      1387\n",
            "\n",
            "    accuracy                           0.95      2791\n",
            "   macro avg       0.95      0.95      0.95      2791\n",
            "weighted avg       0.95      0.95      0.95      2791\n",
            "\n",
            "Fold: 3\n",
            "Accuracy Score: 0.9501970619849517\n",
            "Confusion Matrix: \n",
            " [[1311   38]\n",
            " [ 101 1341]]\n",
            "Classification Report: \n",
            "               precision    recall  f1-score   support\n",
            "\n",
            "           0       0.93      0.97      0.95      1349\n",
            "           1       0.97      0.93      0.95      1442\n",
            "\n",
            "    accuracy                           0.95      2791\n",
            "   macro avg       0.95      0.95      0.95      2791\n",
            "weighted avg       0.95      0.95      0.95      2791\n",
            "\n",
            "Fold: 4\n",
            "Accuracy Score: 0.9437477606592619\n",
            "Confusion Matrix: \n",
            " [[1354   60]\n",
            " [  97 1280]]\n",
            "Classification Report: \n",
            "               precision    recall  f1-score   support\n",
            "\n",
            "           0       0.93      0.96      0.95      1414\n",
            "           1       0.96      0.93      0.94      1377\n",
            "\n",
            "    accuracy                           0.94      2791\n",
            "   macro avg       0.94      0.94      0.94      2791\n",
            "weighted avg       0.94      0.94      0.94      2791\n",
            "\n",
            "Fold: 5\n",
            "Accuracy Score: 0.9483870967741935\n",
            "Confusion Matrix: \n",
            " [[1361   40]\n",
            " [ 104 1285]]\n",
            "Classification Report: \n",
            "               precision    recall  f1-score   support\n",
            "\n",
            "           0       0.93      0.97      0.95      1401\n",
            "           1       0.97      0.93      0.95      1389\n",
            "\n",
            "    accuracy                           0.95      2790\n",
            "   macro avg       0.95      0.95      0.95      2790\n",
            "weighted avg       0.95      0.95      0.95      2790\n",
            "\n"
          ]
        }
      ],
      "source": [
        "fold, n_estim = 1, 100\n",
        "for train_index, val_index in kfold.split(X_xgb):\n",
        "  X_train, X_val = X_xgb[train_index], X_xgb[val_index]\n",
        "  y_train, y_val = y_encoded[train_index], y_encoded[val_index]\n",
        "\n",
        "  vectorizer = TfidfVectorizer()\n",
        "  vectorizer.fit(X_train)\n",
        "  X_train = vectorizer.transform(X_train)\n",
        "  X_val = vectorizer.transform(X_val)\n",
        "\n",
        "  model = XGBClassifier(n_estimators=n_estim, learning_rate=0.1, max_depth=4, colsample_bytree=0.2, n_jobs=-1, random_state=23, enable_categorical=True)\n",
        "  model.fit(X_train, y_train)\n",
        "  y_pred = model.predict(X_val)\n",
        "\n",
        "  print_report(y_val, y_pred, fold)\n",
        "  xgb_confusion_matrix = confusion_matrix(y_val, y_pred)\n",
        "  fold += 1"
      ]
    },
    {
      "cell_type": "markdown",
      "metadata": {
        "id": "mRMKSaAwWxqb"
      },
      "source": [
        "Heatmap visualization of the Confusion Matrix"
      ]
    },
    {
      "cell_type": "code",
      "execution_count": 23,
      "metadata": {
        "colab": {
          "base_uri": "https://localhost:8080/",
          "height": 481
        },
        "id": "OgINKMRYWxqc",
        "outputId": "8cc1e131-9002-40c4-e65a-ec688dcaa8bb"
      },
      "outputs": [
        {
          "data": {
            "image/png": "[encoded data removed]",
            "text/plain": [
              "<Figure size 640x480 with 2 Axes>"
            ]
          },
          "metadata": {},
          "output_type": "display_data"
        }
      ],
      "source": [
        "sb.heatmap(\n",
        "    xgb_confusion_matrix,\n",
        "    annot=True,\n",
        "    fmt=\"g\",\n",
        "    xticklabels=[\"Safe\", \"Phishing\"],\n",
        "    yticklabels=[\"Safe\", \"Phishing\"],\n",
        ")\n",
        "mplt.ylabel(\"Prediction\", fontsize=13)\n",
        "mplt.xlabel(\"Actual\", fontsize=13)\n",
        "mplt.title(\"XGB Classifier Confusion Matrix\", fontsize=17)\n",
        "mplt.show()"
      ]
    }
  ],
  "metadata": {
    "colab": {
      "provenance": []
    },
    "kernelspec": {
      "display_name": "Python 3",
      "language": "python",
      "name": "python3"
    },
    "language_info": {
      "codemirror_mode": {
        "name": "ipython",
        "version": 3
      },
      "file_extension": ".py",
      "mimetype": "text/x-python",
      "name": "python",
      "nbconvert_exporter": "python",
      "pygments_lexer": "ipython3",
      "version": "3.9.13"
    }
  },
  "nbformat": 4,
  "nbformat_minor": 0
}
