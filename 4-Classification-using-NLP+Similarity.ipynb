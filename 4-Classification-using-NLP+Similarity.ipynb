{
 "cells": [
  {
   "cell_type": "markdown",
   "metadata": {},
   "source": [
    "### Importing the required Libraries\n"
   ]
  },
  {
   "cell_type": "code",
   "execution_count": 136,
   "metadata": {},
   "outputs": [],
   "source": [
    "# Data Wrangling\n",
    "import pandas as pd\n",
    "\n",
    "# Preprocessing\n",
    "from sklearn.preprocessing import LabelEncoder\n",
    "\n",
    "# Vectorizer\n",
    "from sklearn.feature_extraction.text import TfidfVectorizer\n",
    "\n",
    "# Model\n",
    "from sklearn.model_selection import train_test_split\n",
    "from sklearn.svm import SVC\n",
    "from sklearn.ensemble import RandomForestClassifier\n",
    "from sklearn.metrics import accuracy_score, confusion_matrix, classification_report\n",
    "from sklearn.model_selection import KFold\n",
    "from xgboost import XGBClassifier\n",
    "\n",
    "# Data Visualization\n",
    "import seaborn as sb\n",
    "import matplotlib.pyplot as mplt"
   ]
  },
  {
   "cell_type": "markdown",
   "metadata": {},
   "source": [
    "### Importing Dataset\n"
   ]
  },
  {
   "cell_type": "markdown",
   "metadata": {},
   "source": [
    "Importing the dataset that has all features (NLP + Similarity)\n"
   ]
  },
  {
   "cell_type": "code",
   "execution_count": 137,
   "metadata": {},
   "outputs": [
    {
     "data": {
      "text/html": [
       "<div>\n",
       "<style scoped>\n",
       "    .dataframe tbody tr th:only-of-type {\n",
       "        vertical-align: middle;\n",
       "    }\n",
       "\n",
       "    .dataframe tbody tr th {\n",
       "        vertical-align: top;\n",
       "    }\n",
       "\n",
       "    .dataframe thead th {\n",
       "        text-align: right;\n",
       "    }\n",
       "</style>\n",
       "<table border=\"1\" class=\"dataframe\">\n",
       "  <thead>\n",
       "    <tr style=\"text-align: right;\">\n",
       "      <th></th>\n",
       "      <th>Index</th>\n",
       "      <th>Email Text</th>\n",
       "      <th>Email Type</th>\n",
       "      <th>Lexical Errors</th>\n",
       "      <th>URL Verification</th>\n",
       "      <th>scores</th>\n",
       "      <th>compound</th>\n",
       "      <th>Sentiment</th>\n",
       "      <th>TB_score</th>\n",
       "      <th>TB_sentiment</th>\n",
       "      <th>Emotion</th>\n",
       "      <th>Email Text New</th>\n",
       "      <th>Phishing Similarity</th>\n",
       "    </tr>\n",
       "  </thead>\n",
       "  <tbody>\n",
       "    <tr>\n",
       "      <th>0</th>\n",
       "      <td>0</td>\n",
       "      <td>re : 6 . 1100 , disc : uniformitarianism , re ...</td>\n",
       "      <td>Safe Email</td>\n",
       "      <td>25.652174</td>\n",
       "      <td>NaN</td>\n",
       "      <td>{'neg': 0.031, 'neu': 0.812, 'pos': 0.157, 'co...</td>\n",
       "      <td>0.9795</td>\n",
       "      <td>Positive</td>\n",
       "      <td>Sentiment(polarity=0.17013888888888887, subjec...</td>\n",
       "      <td>0.170139</td>\n",
       "      <td>positive</td>\n",
       "      <td>disc  uniformitarianism     sex  lang dick hud...</td>\n",
       "      <td>0.011487</td>\n",
       "    </tr>\n",
       "    <tr>\n",
       "      <th>1</th>\n",
       "      <td>1</td>\n",
       "      <td>the other side of * galicismos * * galicismo *...</td>\n",
       "      <td>Safe Email</td>\n",
       "      <td>28.571429</td>\n",
       "      <td>NaN</td>\n",
       "      <td>{'neg': 0.0, 'neu': 0.966, 'pos': 0.034, 'comp...</td>\n",
       "      <td>0.3612</td>\n",
       "      <td>Positive</td>\n",
       "      <td>Sentiment(polarity=0.009375000000000001, subje...</td>\n",
       "      <td>0.009375</td>\n",
       "      <td>negative</td>\n",
       "      <td>the other side of  galicismos   galicismo  is ...</td>\n",
       "      <td>0.019268</td>\n",
       "    </tr>\n",
       "    <tr>\n",
       "      <th>2</th>\n",
       "      <td>2</td>\n",
       "      <td>re : equistar deal tickets are you still avail...</td>\n",
       "      <td>Safe Email</td>\n",
       "      <td>20.000000</td>\n",
       "      <td>NaN</td>\n",
       "      <td>{'neg': 0.0, 'neu': 0.939, 'pos': 0.061, 'comp...</td>\n",
       "      <td>0.8591</td>\n",
       "      <td>Positive</td>\n",
       "      <td>Sentiment(polarity=0.09154040404040405, subjec...</td>\n",
       "      <td>0.091540</td>\n",
       "      <td>positive</td>\n",
       "      <td>equistar deal tickets are you still available ...</td>\n",
       "      <td>0.005855</td>\n",
       "    </tr>\n",
       "    <tr>\n",
       "      <th>3</th>\n",
       "      <td>3</td>\n",
       "      <td>\\nHello I am your hot lil horny toy.\\n    I am...</td>\n",
       "      <td>Phishing Email</td>\n",
       "      <td>15.625000</td>\n",
       "      <td>Safe</td>\n",
       "      <td>{'neg': 0.0, 'neu': 0.775, 'pos': 0.225, 'comp...</td>\n",
       "      <td>0.9696</td>\n",
       "      <td>Positive</td>\n",
       "      <td>Sentiment(polarity=0.23333333333333334, subjec...</td>\n",
       "      <td>0.233333</td>\n",
       "      <td>positive</td>\n",
       "      <td>hello i am your hot lil horny toy     i am the...</td>\n",
       "      <td>0.020337</td>\n",
       "    </tr>\n",
       "    <tr>\n",
       "      <th>4</th>\n",
       "      <td>4</td>\n",
       "      <td>software at incredibly low prices ( 86 % lower...</td>\n",
       "      <td>Phishing Email</td>\n",
       "      <td>42.857143</td>\n",
       "      <td>NaN</td>\n",
       "      <td>{'neg': 0.106, 'neu': 0.72, 'pos': 0.174, 'com...</td>\n",
       "      <td>0.4767</td>\n",
       "      <td>Positive</td>\n",
       "      <td>Sentiment(polarity=0.15257936507936506, subjec...</td>\n",
       "      <td>0.152579</td>\n",
       "      <td>positive</td>\n",
       "      <td>software at incredibly low prices    lower   d...</td>\n",
       "      <td>1.000000</td>\n",
       "    </tr>\n",
       "  </tbody>\n",
       "</table>\n",
       "</div>"
      ],
      "text/plain": [
       "   Index                                         Email Text      Email Type  \\\n",
       "0      0  re : 6 . 1100 , disc : uniformitarianism , re ...      Safe Email   \n",
       "1      1  the other side of * galicismos * * galicismo *...      Safe Email   \n",
       "2      2  re : equistar deal tickets are you still avail...      Safe Email   \n",
       "3      3  \\nHello I am your hot lil horny toy.\\n    I am...  Phishing Email   \n",
       "4      4  software at incredibly low prices ( 86 % lower...  Phishing Email   \n",
       "\n",
       "   Lexical Errors URL Verification  \\\n",
       "0       25.652174              NaN   \n",
       "1       28.571429              NaN   \n",
       "2       20.000000              NaN   \n",
       "3       15.625000             Safe   \n",
       "4       42.857143              NaN   \n",
       "\n",
       "                                              scores  compound Sentiment  \\\n",
       "0  {'neg': 0.031, 'neu': 0.812, 'pos': 0.157, 'co...    0.9795  Positive   \n",
       "1  {'neg': 0.0, 'neu': 0.966, 'pos': 0.034, 'comp...    0.3612  Positive   \n",
       "2  {'neg': 0.0, 'neu': 0.939, 'pos': 0.061, 'comp...    0.8591  Positive   \n",
       "3  {'neg': 0.0, 'neu': 0.775, 'pos': 0.225, 'comp...    0.9696  Positive   \n",
       "4  {'neg': 0.106, 'neu': 0.72, 'pos': 0.174, 'com...    0.4767  Positive   \n",
       "\n",
       "                                            TB_score  TB_sentiment   Emotion  \\\n",
       "0  Sentiment(polarity=0.17013888888888887, subjec...      0.170139  positive   \n",
       "1  Sentiment(polarity=0.009375000000000001, subje...      0.009375  negative   \n",
       "2  Sentiment(polarity=0.09154040404040405, subjec...      0.091540  positive   \n",
       "3  Sentiment(polarity=0.23333333333333334, subjec...      0.233333  positive   \n",
       "4  Sentiment(polarity=0.15257936507936506, subjec...      0.152579  positive   \n",
       "\n",
       "                                      Email Text New  Phishing Similarity  \n",
       "0  disc  uniformitarianism     sex  lang dick hud...             0.011487  \n",
       "1  the other side of  galicismos   galicismo  is ...             0.019268  \n",
       "2  equistar deal tickets are you still available ...             0.005855  \n",
       "3  hello i am your hot lil horny toy     i am the...             0.020337  \n",
       "4  software at incredibly low prices    lower   d...             1.000000  "
      ]
     },
     "execution_count": 137,
     "metadata": {},
     "output_type": "execute_result"
    }
   ],
   "source": [
    "phishing_dt = pd.read_csv(\"./Phishing_Email_Rich_Sim.csv\")\n",
    "phishing_dt.head()"
   ]
  },
  {
   "cell_type": "markdown",
   "metadata": {},
   "source": [
    "### Processing the data for Model\n"
   ]
  },
  {
   "cell_type": "markdown",
   "metadata": {},
   "source": [
    "Labelling the text values\n"
   ]
  },
  {
   "cell_type": "code",
   "execution_count": 138,
   "metadata": {},
   "outputs": [],
   "source": [
    "target_column = phishing_dt.pop(phishing_dt.columns[2])\n",
    "phishing_dt[\"Email Type\"] = target_column\n",
    "phishing_dt[\"URL Verification\"] = phishing_dt[\"URL Verification\"].fillna(\"No URL\")\n",
    "phishing_dt = phishing_dt.drop(\"Index\", axis=1)\n",
    "phishing_dt = phishing_dt.drop(\"scores\", axis=1)\n",
    "phishing_dt = phishing_dt.drop(\"TB_score\", axis=1)\n",
    "\n",
    "label_encoder = LabelEncoder()\n",
    "phishing_dt[\"URL Verification\"] = label_encoder.fit_transform(\n",
    "    phishing_dt[\"URL Verification\"]\n",
    ")\n",
    "phishing_dt[\"Emotion\"] = label_encoder.fit_transform(phishing_dt[\"Emotion\"])\n",
    "phishing_dt[\"Sentiment\"] = label_encoder.fit_transform(phishing_dt[\"Sentiment\"])"
   ]
  },
  {
   "cell_type": "markdown",
   "metadata": {},
   "source": [
    "Performing vectorization creating features using Email Text\n"
   ]
  },
  {
   "cell_type": "code",
   "execution_count": 139,
   "metadata": {},
   "outputs": [],
   "source": [
    "vectorizer = TfidfVectorizer(max_features=200)\n",
    "\n",
    "tfidf_matrix_email_text = vectorizer.fit_transform(phishing_dt[\"Email Text\"])\n",
    "tfidf_df_email_text = pd.DataFrame(\n",
    "    tfidf_matrix_email_text.toarray(), columns=vectorizer.get_feature_names_out()\n",
    ")"
   ]
  },
  {
   "cell_type": "markdown",
   "metadata": {},
   "source": [
    "Creating final dataframe\n"
   ]
  },
  {
   "cell_type": "code",
   "execution_count": 140,
   "metadata": {},
   "outputs": [
    {
     "data": {
      "text/html": [
       "<div>\n",
       "<style scoped>\n",
       "    .dataframe tbody tr th:only-of-type {\n",
       "        vertical-align: middle;\n",
       "    }\n",
       "\n",
       "    .dataframe tbody tr th {\n",
       "        vertical-align: top;\n",
       "    }\n",
       "\n",
       "    .dataframe thead th {\n",
       "        text-align: right;\n",
       "    }\n",
       "</style>\n",
       "<table border=\"1\" class=\"dataframe\">\n",
       "  <thead>\n",
       "    <tr style=\"text-align: right;\">\n",
       "      <th></th>\n",
       "      <th>Lexical Errors</th>\n",
       "      <th>URL Verification</th>\n",
       "      <th>compound</th>\n",
       "      <th>Sentiment</th>\n",
       "      <th>TB_sentiment</th>\n",
       "      <th>Emotion</th>\n",
       "      <th>Phishing Similarity</th>\n",
       "      <th>Email Type</th>\n",
       "      <th>00</th>\n",
       "      <th>000</th>\n",
       "      <th>...</th>\n",
       "      <th>with</th>\n",
       "      <th>within</th>\n",
       "      <th>work</th>\n",
       "      <th>world</th>\n",
       "      <th>would</th>\n",
       "      <th>www</th>\n",
       "      <th>year</th>\n",
       "      <th>you</th>\n",
       "      <th>your</th>\n",
       "      <th>½ï</th>\n",
       "    </tr>\n",
       "  </thead>\n",
       "  <tbody>\n",
       "    <tr>\n",
       "      <th>0</th>\n",
       "      <td>25.652174</td>\n",
       "      <td>0</td>\n",
       "      <td>0.9795</td>\n",
       "      <td>2</td>\n",
       "      <td>0.170139</td>\n",
       "      <td>7</td>\n",
       "      <td>0.011487</td>\n",
       "      <td>Safe Email</td>\n",
       "      <td>0.0</td>\n",
       "      <td>0.0</td>\n",
       "      <td>...</td>\n",
       "      <td>0.000000</td>\n",
       "      <td>0.0</td>\n",
       "      <td>0.0</td>\n",
       "      <td>0.0</td>\n",
       "      <td>0.00000</td>\n",
       "      <td>0.000000</td>\n",
       "      <td>0.0</td>\n",
       "      <td>0.000000</td>\n",
       "      <td>0.000000</td>\n",
       "      <td>0.0</td>\n",
       "    </tr>\n",
       "    <tr>\n",
       "      <th>1</th>\n",
       "      <td>28.571429</td>\n",
       "      <td>0</td>\n",
       "      <td>0.3612</td>\n",
       "      <td>2</td>\n",
       "      <td>0.009375</td>\n",
       "      <td>6</td>\n",
       "      <td>0.019268</td>\n",
       "      <td>Safe Email</td>\n",
       "      <td>0.0</td>\n",
       "      <td>0.0</td>\n",
       "      <td>...</td>\n",
       "      <td>0.000000</td>\n",
       "      <td>0.0</td>\n",
       "      <td>0.0</td>\n",
       "      <td>0.0</td>\n",
       "      <td>0.15423</td>\n",
       "      <td>0.000000</td>\n",
       "      <td>0.0</td>\n",
       "      <td>0.094384</td>\n",
       "      <td>0.000000</td>\n",
       "      <td>0.0</td>\n",
       "    </tr>\n",
       "    <tr>\n",
       "      <th>2</th>\n",
       "      <td>20.000000</td>\n",
       "      <td>0</td>\n",
       "      <td>0.8591</td>\n",
       "      <td>2</td>\n",
       "      <td>0.091540</td>\n",
       "      <td>7</td>\n",
       "      <td>0.005855</td>\n",
       "      <td>Safe Email</td>\n",
       "      <td>0.0</td>\n",
       "      <td>0.0</td>\n",
       "      <td>...</td>\n",
       "      <td>0.112428</td>\n",
       "      <td>0.0</td>\n",
       "      <td>0.0</td>\n",
       "      <td>0.0</td>\n",
       "      <td>0.00000</td>\n",
       "      <td>0.000000</td>\n",
       "      <td>0.0</td>\n",
       "      <td>0.099227</td>\n",
       "      <td>0.000000</td>\n",
       "      <td>0.0</td>\n",
       "    </tr>\n",
       "    <tr>\n",
       "      <th>3</th>\n",
       "      <td>15.625000</td>\n",
       "      <td>1</td>\n",
       "      <td>0.9696</td>\n",
       "      <td>2</td>\n",
       "      <td>0.233333</td>\n",
       "      <td>7</td>\n",
       "      <td>0.020337</td>\n",
       "      <td>Phishing Email</td>\n",
       "      <td>0.0</td>\n",
       "      <td>0.0</td>\n",
       "      <td>...</td>\n",
       "      <td>0.069417</td>\n",
       "      <td>0.0</td>\n",
       "      <td>0.0</td>\n",
       "      <td>0.0</td>\n",
       "      <td>0.00000</td>\n",
       "      <td>0.097343</td>\n",
       "      <td>0.0</td>\n",
       "      <td>0.183800</td>\n",
       "      <td>0.375534</td>\n",
       "      <td>0.0</td>\n",
       "    </tr>\n",
       "    <tr>\n",
       "      <th>4</th>\n",
       "      <td>42.857143</td>\n",
       "      <td>0</td>\n",
       "      <td>0.4767</td>\n",
       "      <td>2</td>\n",
       "      <td>0.152579</td>\n",
       "      <td>7</td>\n",
       "      <td>1.000000</td>\n",
       "      <td>Phishing Email</td>\n",
       "      <td>0.0</td>\n",
       "      <td>0.0</td>\n",
       "      <td>...</td>\n",
       "      <td>0.000000</td>\n",
       "      <td>0.0</td>\n",
       "      <td>0.0</td>\n",
       "      <td>0.0</td>\n",
       "      <td>0.00000</td>\n",
       "      <td>0.000000</td>\n",
       "      <td>0.0</td>\n",
       "      <td>0.000000</td>\n",
       "      <td>0.000000</td>\n",
       "      <td>0.0</td>\n",
       "    </tr>\n",
       "  </tbody>\n",
       "</table>\n",
       "<p>5 rows × 208 columns</p>\n",
       "</div>"
      ],
      "text/plain": [
       "   Lexical Errors  URL Verification  compound  Sentiment  TB_sentiment  \\\n",
       "0       25.652174                 0    0.9795          2      0.170139   \n",
       "1       28.571429                 0    0.3612          2      0.009375   \n",
       "2       20.000000                 0    0.8591          2      0.091540   \n",
       "3       15.625000                 1    0.9696          2      0.233333   \n",
       "4       42.857143                 0    0.4767          2      0.152579   \n",
       "\n",
       "   Emotion  Phishing Similarity      Email Type   00  000  ...      with  \\\n",
       "0        7             0.011487      Safe Email  0.0  0.0  ...  0.000000   \n",
       "1        6             0.019268      Safe Email  0.0  0.0  ...  0.000000   \n",
       "2        7             0.005855      Safe Email  0.0  0.0  ...  0.112428   \n",
       "3        7             0.020337  Phishing Email  0.0  0.0  ...  0.069417   \n",
       "4        7             1.000000  Phishing Email  0.0  0.0  ...  0.000000   \n",
       "\n",
       "   within  work  world    would       www  year       you      your   ½ï  \n",
       "0     0.0   0.0    0.0  0.00000  0.000000   0.0  0.000000  0.000000  0.0  \n",
       "1     0.0   0.0    0.0  0.15423  0.000000   0.0  0.094384  0.000000  0.0  \n",
       "2     0.0   0.0    0.0  0.00000  0.000000   0.0  0.099227  0.000000  0.0  \n",
       "3     0.0   0.0    0.0  0.00000  0.097343   0.0  0.183800  0.375534  0.0  \n",
       "4     0.0   0.0    0.0  0.00000  0.000000   0.0  0.000000  0.000000  0.0  \n",
       "\n",
       "[5 rows x 208 columns]"
      ]
     },
     "execution_count": 140,
     "metadata": {},
     "output_type": "execute_result"
    }
   ],
   "source": [
    "phishing_dt_no_email = phishing_dt.drop(columns=[\"Email Text\", \"Email Text New\"])\n",
    "\n",
    "phishing_dt_final = pd.concat(\n",
    "    [phishing_dt_no_email, tfidf_df_email_text], axis=1, ignore_index=False\n",
    ")\n",
    "\n",
    "phishing_dt_final.head()"
   ]
  },
  {
   "cell_type": "markdown",
   "metadata": {},
   "source": [
    "### Data Splitting\n"
   ]
  },
  {
   "cell_type": "markdown",
   "metadata": {},
   "source": [
    "Splitting data into X and y\n"
   ]
  },
  {
   "cell_type": "code",
   "execution_count": 141,
   "metadata": {},
   "outputs": [],
   "source": [
    "X = phishing_dt_final.drop(columns=[\"Email Type\"])\n",
    "y = phishing_dt_final[\"Email Type\"]"
   ]
  },
  {
   "cell_type": "code",
   "execution_count": 142,
   "metadata": {},
   "outputs": [],
   "source": [
    "X_train, X_test, y_train, y_test = train_test_split(\n",
    "    X, y, test_size=0.33, random_state=42\n",
    ")"
   ]
  },
  {
   "cell_type": "markdown",
   "metadata": {},
   "source": [
    "### Random Forest Classifier\n"
   ]
  },
  {
   "cell_type": "markdown",
   "metadata": {},
   "source": [
    "Training the Classifier Model\n"
   ]
  },
  {
   "cell_type": "code",
   "execution_count": 143,
   "metadata": {},
   "outputs": [
    {
     "data": {
      "text/html": [
       "<style>#sk-container-id-13 {color: black;}#sk-container-id-13 pre{padding: 0;}#sk-container-id-13 div.sk-toggleable {background-color: white;}#sk-container-id-13 label.sk-toggleable__label {cursor: pointer;display: block;width: 100%;margin-bottom: 0;padding: 0.3em;box-sizing: border-box;text-align: center;}#sk-container-id-13 label.sk-toggleable__label-arrow:before {content: \"▸\";float: left;margin-right: 0.25em;color: #696969;}#sk-container-id-13 label.sk-toggleable__label-arrow:hover:before {color: black;}#sk-container-id-13 div.sk-estimator:hover label.sk-toggleable__label-arrow:before {color: black;}#sk-container-id-13 div.sk-toggleable__content {max-height: 0;max-width: 0;overflow: hidden;text-align: left;background-color: #f0f8ff;}#sk-container-id-13 div.sk-toggleable__content pre {margin: 0.2em;color: black;border-radius: 0.25em;background-color: #f0f8ff;}#sk-container-id-13 input.sk-toggleable__control:checked~div.sk-toggleable__content {max-height: 200px;max-width: 100%;overflow: auto;}#sk-container-id-13 input.sk-toggleable__control:checked~label.sk-toggleable__label-arrow:before {content: \"▾\";}#sk-container-id-13 div.sk-estimator input.sk-toggleable__control:checked~label.sk-toggleable__label {background-color: #d4ebff;}#sk-container-id-13 div.sk-label input.sk-toggleable__control:checked~label.sk-toggleable__label {background-color: #d4ebff;}#sk-container-id-13 input.sk-hidden--visually {border: 0;clip: rect(1px 1px 1px 1px);clip: rect(1px, 1px, 1px, 1px);height: 1px;margin: -1px;overflow: hidden;padding: 0;position: absolute;width: 1px;}#sk-container-id-13 div.sk-estimator {font-family: monospace;background-color: #f0f8ff;border: 1px dotted black;border-radius: 0.25em;box-sizing: border-box;margin-bottom: 0.5em;}#sk-container-id-13 div.sk-estimator:hover {background-color: #d4ebff;}#sk-container-id-13 div.sk-parallel-item::after {content: \"\";width: 100%;border-bottom: 1px solid gray;flex-grow: 1;}#sk-container-id-13 div.sk-label:hover label.sk-toggleable__label {background-color: #d4ebff;}#sk-container-id-13 div.sk-serial::before {content: \"\";position: absolute;border-left: 1px solid gray;box-sizing: border-box;top: 0;bottom: 0;left: 50%;z-index: 0;}#sk-container-id-13 div.sk-serial {display: flex;flex-direction: column;align-items: center;background-color: white;padding-right: 0.2em;padding-left: 0.2em;position: relative;}#sk-container-id-13 div.sk-item {position: relative;z-index: 1;}#sk-container-id-13 div.sk-parallel {display: flex;align-items: stretch;justify-content: center;background-color: white;position: relative;}#sk-container-id-13 div.sk-item::before, #sk-container-id-13 div.sk-parallel-item::before {content: \"\";position: absolute;border-left: 1px solid gray;box-sizing: border-box;top: 0;bottom: 0;left: 50%;z-index: -1;}#sk-container-id-13 div.sk-parallel-item {display: flex;flex-direction: column;z-index: 1;position: relative;background-color: white;}#sk-container-id-13 div.sk-parallel-item:first-child::after {align-self: flex-end;width: 50%;}#sk-container-id-13 div.sk-parallel-item:last-child::after {align-self: flex-start;width: 50%;}#sk-container-id-13 div.sk-parallel-item:only-child::after {width: 0;}#sk-container-id-13 div.sk-dashed-wrapped {border: 1px dashed gray;margin: 0 0.4em 0.5em 0.4em;box-sizing: border-box;padding-bottom: 0.4em;background-color: white;}#sk-container-id-13 div.sk-label label {font-family: monospace;font-weight: bold;display: inline-block;line-height: 1.2em;}#sk-container-id-13 div.sk-label-container {text-align: center;}#sk-container-id-13 div.sk-container {/* jupyter's `normalize.less` sets `[hidden] { display: none; }` but bootstrap.min.css set `[hidden] { display: none !important; }` so we also need the `!important` here to be able to override the default hidden behavior on the sphinx rendered scikit-learn.org. See: https://github.com/scikit-learn/scikit-learn/issues/21755 */display: inline-block !important;position: relative;}#sk-container-id-13 div.sk-text-repr-fallback {display: none;}</style><div id=\"sk-container-id-13\" class=\"sk-top-container\"><div class=\"sk-text-repr-fallback\"><pre>RandomForestClassifier(random_state=42)</pre><b>In a Jupyter environment, please rerun this cell to show the HTML representation or trust the notebook. <br />On GitHub, the HTML representation is unable to render, please try loading this page with nbviewer.org.</b></div><div class=\"sk-container\" hidden><div class=\"sk-item\"><div class=\"sk-estimator sk-toggleable\"><input class=\"sk-toggleable__control sk-hidden--visually\" id=\"sk-estimator-id-13\" type=\"checkbox\" checked><label for=\"sk-estimator-id-13\" class=\"sk-toggleable__label sk-toggleable__label-arrow\">RandomForestClassifier</label><div class=\"sk-toggleable__content\"><pre>RandomForestClassifier(random_state=42)</pre></div></div></div></div></div>"
      ],
      "text/plain": [
       "RandomForestClassifier(random_state=42)"
      ]
     },
     "execution_count": 143,
     "metadata": {},
     "output_type": "execute_result"
    }
   ],
   "source": [
    "classifier = RandomForestClassifier(random_state=42)\n",
    "classifier.fit(X_train, y_train)"
   ]
  },
  {
   "cell_type": "markdown",
   "metadata": {},
   "source": [
    "Testing the Classifier Model\n"
   ]
  },
  {
   "cell_type": "code",
   "execution_count": 144,
   "metadata": {},
   "outputs": [],
   "source": [
    "rf_y_pred = classifier.predict(X_test)"
   ]
  },
  {
   "cell_type": "markdown",
   "metadata": {},
   "source": [
    "Model Accuracy\n"
   ]
  },
  {
   "cell_type": "code",
   "execution_count": 145,
   "metadata": {},
   "outputs": [
    {
     "name": "stdout",
     "output_type": "stream",
     "text": [
      "The Random Forest Classifier Model has an accuracy of 0.954629164573916\n"
     ]
    }
   ],
   "source": [
    "rf_accuracy = accuracy_score(y_test, rf_y_pred)\n",
    "phishing_confusion_matrix = confusion_matrix(y_test, rf_y_pred)\n",
    "\n",
    "print(f\"The Random Forest Classifier Model has an accuracy of {rf_accuracy}\")"
   ]
  },
  {
   "cell_type": "markdown",
   "metadata": {},
   "source": [
    "Heatmap visualization of the Confusion Matrix"
   ]
  },
  {
   "cell_type": "code",
   "execution_count": 146,
   "metadata": {},
   "outputs": [
    {
     "data": {
      "image/png": "[encoded data removed]",
      "text/plain": [
       "<Figure size 640x480 with 2 Axes>"
      ]
     },
     "metadata": {},
     "output_type": "display_data"
    }
   ],
   "source": [
    "sb.heatmap(\n",
    "    phishing_confusion_matrix,\n",
    "    annot=True,\n",
    "    fmt=\"g\",\n",
    "    xticklabels=[\"Safe\", \"Phishing\"],\n",
    "    yticklabels=[\"Safe\", \"Phishing\"],\n",
    ")\n",
    "mplt.ylabel(\"Prediction\", fontsize=13)\n",
    "mplt.xlabel(\"Actual\", fontsize=13)\n",
    "mplt.title(\"Confusion Matrix\", fontsize=17)\n",
    "mplt.show()"
   ]
  },
  {
   "cell_type": "markdown",
   "metadata": {},
   "source": [
    "### SVM Model\n"
   ]
  },
  {
   "cell_type": "markdown",
   "metadata": {},
   "source": [
    "Creating a SVM Model"
   ]
  },
  {
   "cell_type": "code",
   "execution_count": 147,
   "metadata": {},
   "outputs": [],
   "source": [
    "model_svm = SVC(C=100, gamma=\"auto\")"
   ]
  },
  {
   "cell_type": "markdown",
   "metadata": {},
   "source": [
    "Training the SVM Model"
   ]
  },
  {
   "cell_type": "code",
   "execution_count": 148,
   "metadata": {},
   "outputs": [
    {
     "data": {
      "text/html": [
       "<style>#sk-container-id-14 {color: black;}#sk-container-id-14 pre{padding: 0;}#sk-container-id-14 div.sk-toggleable {background-color: white;}#sk-container-id-14 label.sk-toggleable__label {cursor: pointer;display: block;width: 100%;margin-bottom: 0;padding: 0.3em;box-sizing: border-box;text-align: center;}#sk-container-id-14 label.sk-toggleable__label-arrow:before {content: \"▸\";float: left;margin-right: 0.25em;color: #696969;}#sk-container-id-14 label.sk-toggleable__label-arrow:hover:before {color: black;}#sk-container-id-14 div.sk-estimator:hover label.sk-toggleable__label-arrow:before {color: black;}#sk-container-id-14 div.sk-toggleable__content {max-height: 0;max-width: 0;overflow: hidden;text-align: left;background-color: #f0f8ff;}#sk-container-id-14 div.sk-toggleable__content pre {margin: 0.2em;color: black;border-radius: 0.25em;background-color: #f0f8ff;}#sk-container-id-14 input.sk-toggleable__control:checked~div.sk-toggleable__content {max-height: 200px;max-width: 100%;overflow: auto;}#sk-container-id-14 input.sk-toggleable__control:checked~label.sk-toggleable__label-arrow:before {content: \"▾\";}#sk-container-id-14 div.sk-estimator input.sk-toggleable__control:checked~label.sk-toggleable__label {background-color: #d4ebff;}#sk-container-id-14 div.sk-label input.sk-toggleable__control:checked~label.sk-toggleable__label {background-color: #d4ebff;}#sk-container-id-14 input.sk-hidden--visually {border: 0;clip: rect(1px 1px 1px 1px);clip: rect(1px, 1px, 1px, 1px);height: 1px;margin: -1px;overflow: hidden;padding: 0;position: absolute;width: 1px;}#sk-container-id-14 div.sk-estimator {font-family: monospace;background-color: #f0f8ff;border: 1px dotted black;border-radius: 0.25em;box-sizing: border-box;margin-bottom: 0.5em;}#sk-container-id-14 div.sk-estimator:hover {background-color: #d4ebff;}#sk-container-id-14 div.sk-parallel-item::after {content: \"\";width: 100%;border-bottom: 1px solid gray;flex-grow: 1;}#sk-container-id-14 div.sk-label:hover label.sk-toggleable__label {background-color: #d4ebff;}#sk-container-id-14 div.sk-serial::before {content: \"\";position: absolute;border-left: 1px solid gray;box-sizing: border-box;top: 0;bottom: 0;left: 50%;z-index: 0;}#sk-container-id-14 div.sk-serial {display: flex;flex-direction: column;align-items: center;background-color: white;padding-right: 0.2em;padding-left: 0.2em;position: relative;}#sk-container-id-14 div.sk-item {position: relative;z-index: 1;}#sk-container-id-14 div.sk-parallel {display: flex;align-items: stretch;justify-content: center;background-color: white;position: relative;}#sk-container-id-14 div.sk-item::before, #sk-container-id-14 div.sk-parallel-item::before {content: \"\";position: absolute;border-left: 1px solid gray;box-sizing: border-box;top: 0;bottom: 0;left: 50%;z-index: -1;}#sk-container-id-14 div.sk-parallel-item {display: flex;flex-direction: column;z-index: 1;position: relative;background-color: white;}#sk-container-id-14 div.sk-parallel-item:first-child::after {align-self: flex-end;width: 50%;}#sk-container-id-14 div.sk-parallel-item:last-child::after {align-self: flex-start;width: 50%;}#sk-container-id-14 div.sk-parallel-item:only-child::after {width: 0;}#sk-container-id-14 div.sk-dashed-wrapped {border: 1px dashed gray;margin: 0 0.4em 0.5em 0.4em;box-sizing: border-box;padding-bottom: 0.4em;background-color: white;}#sk-container-id-14 div.sk-label label {font-family: monospace;font-weight: bold;display: inline-block;line-height: 1.2em;}#sk-container-id-14 div.sk-label-container {text-align: center;}#sk-container-id-14 div.sk-container {/* jupyter's `normalize.less` sets `[hidden] { display: none; }` but bootstrap.min.css set `[hidden] { display: none !important; }` so we also need the `!important` here to be able to override the default hidden behavior on the sphinx rendered scikit-learn.org. See: https://github.com/scikit-learn/scikit-learn/issues/21755 */display: inline-block !important;position: relative;}#sk-container-id-14 div.sk-text-repr-fallback {display: none;}</style><div id=\"sk-container-id-14\" class=\"sk-top-container\"><div class=\"sk-text-repr-fallback\"><pre>SVC(C=100, gamma=&#x27;auto&#x27;)</pre><b>In a Jupyter environment, please rerun this cell to show the HTML representation or trust the notebook. <br />On GitHub, the HTML representation is unable to render, please try loading this page with nbviewer.org.</b></div><div class=\"sk-container\" hidden><div class=\"sk-item\"><div class=\"sk-estimator sk-toggleable\"><input class=\"sk-toggleable__control sk-hidden--visually\" id=\"sk-estimator-id-14\" type=\"checkbox\" checked><label for=\"sk-estimator-id-14\" class=\"sk-toggleable__label sk-toggleable__label-arrow\">SVC</label><div class=\"sk-toggleable__content\"><pre>SVC(C=100, gamma=&#x27;auto&#x27;)</pre></div></div></div></div></div>"
      ],
      "text/plain": [
       "SVC(C=100, gamma='auto')"
      ]
     },
     "execution_count": 148,
     "metadata": {},
     "output_type": "execute_result"
    }
   ],
   "source": [
    "model_svm.fit(X_train, y_train)"
   ]
  },
  {
   "cell_type": "markdown",
   "metadata": {},
   "source": [
    "Testing the SVM Model"
   ]
  },
  {
   "cell_type": "code",
   "execution_count": 149,
   "metadata": {},
   "outputs": [],
   "source": [
    "svm_y_pred = model_svm.predict(X_test)"
   ]
  },
  {
   "cell_type": "markdown",
   "metadata": {},
   "source": [
    "Accuracy and Confusion Matrix"
   ]
  },
  {
   "cell_type": "code",
   "execution_count": 150,
   "metadata": {},
   "outputs": [
    {
     "name": "stdout",
     "output_type": "stream",
     "text": [
      "The SVM Model has an accuracy of 0.9382219989954796\n"
     ]
    }
   ],
   "source": [
    "svm_accuracy = accuracy_score(y_test, svm_y_pred)\n",
    "svm_confusion_matrix = confusion_matrix(y_test, svm_y_pred)\n",
    "\n",
    "print(f'The SVM Model has an accuracy of {svm_accuracy}')"
   ]
  },
  {
   "cell_type": "markdown",
   "metadata": {},
   "source": [
    "Heatmap visualization of the Confusion Matrix"
   ]
  },
  {
   "cell_type": "code",
   "execution_count": 151,
   "metadata": {},
   "outputs": [
    {
     "data": {
      "image/png": "[encoded data removed]",
      "text/plain": [
       "<Figure size 640x480 with 2 Axes>"
      ]
     },
     "metadata": {},
     "output_type": "display_data"
    }
   ],
   "source": [
    "sb.heatmap(\n",
    "    svm_confusion_matrix,\n",
    "    annot=True,\n",
    "    fmt=\"g\",\n",
    "    xticklabels=[\"Safe\", \"Phishing\"],\n",
    "    yticklabels=[\"Safe\", \"Phishing\"],\n",
    ")\n",
    "mplt.ylabel(\"Prediction\", fontsize=13)\n",
    "mplt.xlabel(\"Actual\", fontsize=13)\n",
    "mplt.title(\"SVM Model Confusion Matrix\", fontsize=17)\n",
    "mplt.show()"
   ]
  },
  {
   "cell_type": "markdown",
   "metadata": {},
   "source": [
    "### XGB Classifier"
   ]
  },
  {
   "cell_type": "markdown",
   "metadata": {},
   "source": [
    "Defining KFold for the XGB Classifier"
   ]
  },
  {
   "cell_type": "code",
   "execution_count": 152,
   "metadata": {},
   "outputs": [],
   "source": [
    "num_folds = 5\n",
    "kfold = KFold(n_splits=num_folds, shuffle=True, random_state=42)"
   ]
  },
  {
   "cell_type": "markdown",
   "metadata": {},
   "source": [
    "Creating a helper function"
   ]
  },
  {
   "cell_type": "code",
   "execution_count": 153,
   "metadata": {},
   "outputs": [],
   "source": [
    "def print_report(y_val, y_pred, fold):\n",
    "    print(f'Fold: {fold}')\n",
    "    print(f'Accuracy Score: {accuracy_score(y_val, y_pred)}')\n",
    "    print(f'Confusion Matrix: \\n {confusion_matrix(y_val, y_pred)}')\n",
    "    print(f'Classification Report: \\n {classification_report(y_val, y_pred)}')"
   ]
  },
  {
   "cell_type": "markdown",
   "metadata": {},
   "source": [
    "Creating X and y for the XGB Classifier"
   ]
  },
  {
   "cell_type": "code",
   "execution_count": 154,
   "metadata": {},
   "outputs": [],
   "source": [
    "x_full_reset = phishing_dt_final.drop(columns=['Email Type']).reset_index(drop=True)\n",
    "y_reset = y.reset_index(drop=True)"
   ]
  },
  {
   "cell_type": "code",
   "execution_count": 155,
   "metadata": {},
   "outputs": [],
   "source": [
    "y_encoded = label_encoder.fit_transform(y)"
   ]
  },
  {
   "cell_type": "markdown",
   "metadata": {},
   "source": [
    "Training and Testing the XGB Classifier"
   ]
  },
  {
   "cell_type": "code",
   "execution_count": 156,
   "metadata": {},
   "outputs": [
    {
     "name": "stdout",
     "output_type": "stream",
     "text": [
      "Fold: 1\n",
      "Accuracy Score: 0.9348066298342541\n",
      "Confusion Matrix: \n",
      " [[1250  110]\n",
      " [ 126 2134]]\n",
      "Classification Report: \n",
      "               precision    recall  f1-score   support\n",
      "\n",
      "           0       0.91      0.92      0.91      1360\n",
      "           1       0.95      0.94      0.95      2260\n",
      "\n",
      "    accuracy                           0.93      3620\n",
      "   macro avg       0.93      0.93      0.93      3620\n",
      "weighted avg       0.93      0.93      0.93      3620\n",
      "\n",
      "Fold: 2\n",
      "Accuracy Score: 0.9477900552486188\n",
      "Confusion Matrix: \n",
      " [[1332   99]\n",
      " [  90 2099]]\n",
      "Classification Report: \n",
      "               precision    recall  f1-score   support\n",
      "\n",
      "           0       0.94      0.93      0.93      1431\n",
      "           1       0.95      0.96      0.96      2189\n",
      "\n",
      "    accuracy                           0.95      3620\n",
      "   macro avg       0.95      0.94      0.95      3620\n",
      "weighted avg       0.95      0.95      0.95      3620\n",
      "\n",
      "Fold: 3\n",
      "Accuracy Score: 0.9466850828729282\n",
      "Confusion Matrix: \n",
      " [[1319   80]\n",
      " [ 113 2108]]\n",
      "Classification Report: \n",
      "               precision    recall  f1-score   support\n",
      "\n",
      "           0       0.92      0.94      0.93      1399\n",
      "           1       0.96      0.95      0.96      2221\n",
      "\n",
      "    accuracy                           0.95      3620\n",
      "   macro avg       0.94      0.95      0.94      3620\n",
      "weighted avg       0.95      0.95      0.95      3620\n",
      "\n",
      "Fold: 4\n",
      "Accuracy Score: 0.9361878453038674\n",
      "Confusion Matrix: \n",
      " [[1255  121]\n",
      " [ 110 2134]]\n",
      "Classification Report: \n",
      "               precision    recall  f1-score   support\n",
      "\n",
      "           0       0.92      0.91      0.92      1376\n",
      "           1       0.95      0.95      0.95      2244\n",
      "\n",
      "    accuracy                           0.94      3620\n",
      "   macro avg       0.93      0.93      0.93      3620\n",
      "weighted avg       0.94      0.94      0.94      3620\n",
      "\n",
      "Fold: 5\n",
      "Accuracy Score: 0.9400552486187845\n",
      "Confusion Matrix: \n",
      " [[1317   94]\n",
      " [ 123 2086]]\n",
      "Classification Report: \n",
      "               precision    recall  f1-score   support\n",
      "\n",
      "           0       0.91      0.93      0.92      1411\n",
      "           1       0.96      0.94      0.95      2209\n",
      "\n",
      "    accuracy                           0.94      3620\n",
      "   macro avg       0.94      0.94      0.94      3620\n",
      "weighted avg       0.94      0.94      0.94      3620\n",
      "\n"
     ]
    }
   ],
   "source": [
    "fold = 1\n",
    "n_estim = 100\n",
    "for train_index, val_index in kfold.split(x_full_reset):\n",
    "  X_train, X_val = x_full_reset.iloc[train_index], x_full_reset.iloc[val_index]\n",
    "  y_train, y_val = y_encoded[train_index], y_encoded[val_index]\n",
    "  model = XGBClassifier(n_estimators=n_estim, learning_rate=0.1, max_depth=4, colsample_bytree=0.2, n_jobs=-1, random_state=42,enable_categorical=True)\n",
    "  model.fit(X_train, y_train)\n",
    "  y_pred = model.predict(X_val)\n",
    "  print_report(y_val, y_pred, fold)\n",
    "  xgb_confusion_matrix = confusion_matrix(y_val, y_pred)\n",
    "  fold += 1"
   ]
  },
  {
   "cell_type": "markdown",
   "metadata": {},
   "source": [
    "Heatmap visualization of the Confusion Matrix"
   ]
  },
  {
   "cell_type": "code",
   "execution_count": 157,
   "metadata": {},
   "outputs": [
    {
     "data": {
      "image/png": "[encoded data removed]",
      "text/plain": [
       "<Figure size 640x480 with 2 Axes>"
      ]
     },
     "metadata": {},
     "output_type": "display_data"
    }
   ],
   "source": [
    "sb.heatmap(\n",
    "    xgb_confusion_matrix,\n",
    "    annot=True,\n",
    "    fmt=\"g\",\n",
    "    xticklabels=[\"Safe\", \"Phishing\"],\n",
    "    yticklabels=[\"Safe\", \"Phishing\"],\n",
    ")\n",
    "mplt.ylabel(\"Prediction\", fontsize=13)\n",
    "mplt.xlabel(\"Actual\", fontsize=13)\n",
    "mplt.title(\"XGB Classifier Model Confusion Matrix\", fontsize=17)\n",
    "mplt.show()"
   ]
  }
 ],
 "metadata": {
  "kernelspec": {
   "display_name": "Python 3",
   "language": "python",
   "name": "python3"
  },
  "language_info": {
   "codemirror_mode": {
    "name": "ipython",
    "version": 3
   },
   "file_extension": ".py",
   "mimetype": "text/x-python",
   "name": "python",
   "nbconvert_exporter": "python",
   "pygments_lexer": "ipython3",
   "version": "3.12.0"
  }
 },
 "nbformat": 4,
 "nbformat_minor": 2
}
