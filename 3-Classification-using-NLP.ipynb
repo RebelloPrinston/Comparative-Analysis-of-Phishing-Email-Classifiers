{
 "cells": [
  {
   "cell_type": "code",
   "execution_count": 53,
   "id": "8a7e0bf6",
   "metadata": {},
   "outputs": [],
   "source": [
    "import pandas as pd\n",
    "from sklearn.preprocessing import LabelEncoder\n",
    "import seaborn as sb\n",
    "import matplotlib.pyplot as mplt"
   ]
  },
  {
   "cell_type": "code",
   "execution_count": 3,
   "id": "5c257d40",
   "metadata": {
    "scrolled": true
   },
   "outputs": [
    {
     "data": {
      "text/html": [
       "<div>\n",
       "<style scoped>\n",
       "    .dataframe tbody tr th:only-of-type {\n",
       "        vertical-align: middle;\n",
       "    }\n",
       "\n",
       "    .dataframe tbody tr th {\n",
       "        vertical-align: top;\n",
       "    }\n",
       "\n",
       "    .dataframe thead th {\n",
       "        text-align: right;\n",
       "    }\n",
       "</style>\n",
       "<table border=\"1\" class=\"dataframe\">\n",
       "  <thead>\n",
       "    <tr style=\"text-align: right;\">\n",
       "      <th></th>\n",
       "      <th>Email Text</th>\n",
       "      <th>Lexical Errors</th>\n",
       "      <th>URL Verification</th>\n",
       "      <th>compound</th>\n",
       "      <th>Sentiment</th>\n",
       "      <th>TB_sentiment</th>\n",
       "      <th>Emotion</th>\n",
       "      <th>Email Type</th>\n",
       "    </tr>\n",
       "  </thead>\n",
       "  <tbody>\n",
       "    <tr>\n",
       "      <th>0</th>\n",
       "      <td>re : 6 . 1100 , disc : uniformitarianism , re ...</td>\n",
       "      <td>25.652174</td>\n",
       "      <td>0</td>\n",
       "      <td>0.9795</td>\n",
       "      <td>2</td>\n",
       "      <td>0.170139</td>\n",
       "      <td>7</td>\n",
       "      <td>Safe Email</td>\n",
       "    </tr>\n",
       "    <tr>\n",
       "      <th>1</th>\n",
       "      <td>the other side of * galicismos * * galicismo *...</td>\n",
       "      <td>28.571429</td>\n",
       "      <td>0</td>\n",
       "      <td>0.3612</td>\n",
       "      <td>2</td>\n",
       "      <td>0.009375</td>\n",
       "      <td>6</td>\n",
       "      <td>Safe Email</td>\n",
       "    </tr>\n",
       "    <tr>\n",
       "      <th>2</th>\n",
       "      <td>re : equistar deal tickets are you still avail...</td>\n",
       "      <td>20.000000</td>\n",
       "      <td>0</td>\n",
       "      <td>0.8591</td>\n",
       "      <td>2</td>\n",
       "      <td>0.091540</td>\n",
       "      <td>7</td>\n",
       "      <td>Safe Email</td>\n",
       "    </tr>\n",
       "    <tr>\n",
       "      <th>3</th>\n",
       "      <td>\\nHello I am your hot lil horny toy.\\n    I am...</td>\n",
       "      <td>15.625000</td>\n",
       "      <td>1</td>\n",
       "      <td>0.9696</td>\n",
       "      <td>2</td>\n",
       "      <td>0.233333</td>\n",
       "      <td>7</td>\n",
       "      <td>Phishing Email</td>\n",
       "    </tr>\n",
       "    <tr>\n",
       "      <th>4</th>\n",
       "      <td>software at incredibly low prices ( 86 % lower...</td>\n",
       "      <td>42.857143</td>\n",
       "      <td>0</td>\n",
       "      <td>0.4767</td>\n",
       "      <td>2</td>\n",
       "      <td>0.152579</td>\n",
       "      <td>7</td>\n",
       "      <td>Phishing Email</td>\n",
       "    </tr>\n",
       "  </tbody>\n",
       "</table>\n",
       "</div>"
      ],
      "text/plain": [
       "                                          Email Text  Lexical Errors  \\\n",
       "0  re : 6 . 1100 , disc : uniformitarianism , re ...       25.652174   \n",
       "1  the other side of * galicismos * * galicismo *...       28.571429   \n",
       "2  re : equistar deal tickets are you still avail...       20.000000   \n",
       "3  \\nHello I am your hot lil horny toy.\\n    I am...       15.625000   \n",
       "4  software at incredibly low prices ( 86 % lower...       42.857143   \n",
       "\n",
       "   URL Verification  compound  Sentiment  TB_sentiment  Emotion  \\\n",
       "0                 0    0.9795          2      0.170139        7   \n",
       "1                 0    0.3612          2      0.009375        6   \n",
       "2                 0    0.8591          2      0.091540        7   \n",
       "3                 1    0.9696          2      0.233333        7   \n",
       "4                 0    0.4767          2      0.152579        7   \n",
       "\n",
       "       Email Type  \n",
       "0      Safe Email  \n",
       "1      Safe Email  \n",
       "2      Safe Email  \n",
       "3  Phishing Email  \n",
       "4  Phishing Email  "
      ]
     },
     "execution_count": 3,
     "metadata": {},
     "output_type": "execute_result"
    }
   ],
   "source": [
    "# Read Phishing Email Transformed Data Set\n",
    "phishing_dt = pd.read_csv('./Phishing_Email_Rich.csv')\n",
    "target_column = phishing_dt.pop(phishing_dt.columns[2])\n",
    "phishing_dt['Email Type'] = target_column\n",
    "phishing_dt['URL Verification'] = phishing_dt['URL Verification'].fillna('No URL')\n",
    "phishing_dt = phishing_dt.drop('Index', axis = 1)\n",
    "phishing_dt = phishing_dt.drop('scores', axis = 1)\n",
    "phishing_dt = phishing_dt.drop('TB_score', axis = 1)\n",
    "\n",
    "label_encoder = LabelEncoder()\n",
    "phishing_dt['URL Verification'] = label_encoder.fit_transform(phishing_dt['URL Verification'])\n",
    "phishing_dt['Emotion'] = label_encoder.fit_transform(phishing_dt['Emotion'])\n",
    "phishing_dt['Sentiment'] = label_encoder.fit_transform(phishing_dt['Sentiment'])\n",
    "phishing_dt.head()"
   ]
  },
  {
   "cell_type": "code",
   "execution_count": 4,
   "id": "7d0cd30e",
   "metadata": {},
   "outputs": [],
   "source": [
    "from sklearn.model_selection import train_test_split\n",
    "text_columns = ['Email Text']\n",
    "numeric_columns = ['Lexical Errors', 'URL Verification', 'compound', 'Sentiment', 'TB_sentiment', 'Emotion']\n",
    "x = phishing_dt.drop(columns=[\"Email Type\"])\n",
    "y = phishing_dt[\"Email Type\"]"
   ]
  },
  {
   "cell_type": "markdown",
   "id": "388de77b",
   "metadata": {},
   "source": [
    "### Random Forest Classifier"
   ]
  },
  {
   "cell_type": "code",
   "execution_count": 58,
   "id": "984927a6",
   "metadata": {},
   "outputs": [],
   "source": [
    "from sklearn.pipeline import Pipeline\n",
    "from sklearn.compose import ColumnTransformer\n",
    "from sklearn.ensemble import RandomForestClassifier\n",
    "from sklearn.feature_extraction.text import TfidfVectorizer\n",
    "from sklearn.metrics import classification_report,accuracy_score,confusion_matrix\n",
    "# initialise model and vectorizers\n",
    "model = RandomForestClassifier(n_estimators=10)\n",
    "vectorizer = TfidfVectorizer(max_features=500)"
   ]
  },
  {
   "cell_type": "code",
   "execution_count": 59,
   "id": "f815d1cb",
   "metadata": {},
   "outputs": [],
   "source": [
    "tfidf_matrix = vectorizer.fit_transform(x[\"Email Text\"])\n",
    "tfidf_df = pd.DataFrame(tfidf_matrix.toarray(), columns=vectorizer.get_feature_names_out())"
   ]
  },
  {
   "cell_type": "code",
   "execution_count": 64,
   "id": "547f458c",
   "metadata": {},
   "outputs": [],
   "source": [
    "x = phishing_dt.drop(columns=[\"Email Type\"])\n",
    "y = phishing_dt[\"Email Type\"]\n",
    "x_no_email = x.drop(columns=[\"Email Text\"])\n",
    "concatenated_df = pd.concat([tfidf_df,x_no_email ], axis=1, ignore_index=False)\n",
    "x_full = concatenated_df\n",
    "x_train, x_test, y_train, y_test = train_test_split(x_full, y, test_size=0.2, random_state=42)"
   ]
  },
  {
   "cell_type": "code",
   "execution_count": 65,
   "id": "bc0f3358",
   "metadata": {},
   "outputs": [
    {
     "data": {
      "text/html": [
       "<style>#sk-container-id-7 {color: black;}#sk-container-id-7 pre{padding: 0;}#sk-container-id-7 div.sk-toggleable {background-color: white;}#sk-container-id-7 label.sk-toggleable__label {cursor: pointer;display: block;width: 100%;margin-bottom: 0;padding: 0.3em;box-sizing: border-box;text-align: center;}#sk-container-id-7 label.sk-toggleable__label-arrow:before {content: \"▸\";float: left;margin-right: 0.25em;color: #696969;}#sk-container-id-7 label.sk-toggleable__label-arrow:hover:before {color: black;}#sk-container-id-7 div.sk-estimator:hover label.sk-toggleable__label-arrow:before {color: black;}#sk-container-id-7 div.sk-toggleable__content {max-height: 0;max-width: 0;overflow: hidden;text-align: left;background-color: #f0f8ff;}#sk-container-id-7 div.sk-toggleable__content pre {margin: 0.2em;color: black;border-radius: 0.25em;background-color: #f0f8ff;}#sk-container-id-7 input.sk-toggleable__control:checked~div.sk-toggleable__content {max-height: 200px;max-width: 100%;overflow: auto;}#sk-container-id-7 input.sk-toggleable__control:checked~label.sk-toggleable__label-arrow:before {content: \"▾\";}#sk-container-id-7 div.sk-estimator input.sk-toggleable__control:checked~label.sk-toggleable__label {background-color: #d4ebff;}#sk-container-id-7 div.sk-label input.sk-toggleable__control:checked~label.sk-toggleable__label {background-color: #d4ebff;}#sk-container-id-7 input.sk-hidden--visually {border: 0;clip: rect(1px 1px 1px 1px);clip: rect(1px, 1px, 1px, 1px);height: 1px;margin: -1px;overflow: hidden;padding: 0;position: absolute;width: 1px;}#sk-container-id-7 div.sk-estimator {font-family: monospace;background-color: #f0f8ff;border: 1px dotted black;border-radius: 0.25em;box-sizing: border-box;margin-bottom: 0.5em;}#sk-container-id-7 div.sk-estimator:hover {background-color: #d4ebff;}#sk-container-id-7 div.sk-parallel-item::after {content: \"\";width: 100%;border-bottom: 1px solid gray;flex-grow: 1;}#sk-container-id-7 div.sk-label:hover label.sk-toggleable__label {background-color: #d4ebff;}#sk-container-id-7 div.sk-serial::before {content: \"\";position: absolute;border-left: 1px solid gray;box-sizing: border-box;top: 0;bottom: 0;left: 50%;z-index: 0;}#sk-container-id-7 div.sk-serial {display: flex;flex-direction: column;align-items: center;background-color: white;padding-right: 0.2em;padding-left: 0.2em;position: relative;}#sk-container-id-7 div.sk-item {position: relative;z-index: 1;}#sk-container-id-7 div.sk-parallel {display: flex;align-items: stretch;justify-content: center;background-color: white;position: relative;}#sk-container-id-7 div.sk-item::before, #sk-container-id-7 div.sk-parallel-item::before {content: \"\";position: absolute;border-left: 1px solid gray;box-sizing: border-box;top: 0;bottom: 0;left: 50%;z-index: -1;}#sk-container-id-7 div.sk-parallel-item {display: flex;flex-direction: column;z-index: 1;position: relative;background-color: white;}#sk-container-id-7 div.sk-parallel-item:first-child::after {align-self: flex-end;width: 50%;}#sk-container-id-7 div.sk-parallel-item:last-child::after {align-self: flex-start;width: 50%;}#sk-container-id-7 div.sk-parallel-item:only-child::after {width: 0;}#sk-container-id-7 div.sk-dashed-wrapped {border: 1px dashed gray;margin: 0 0.4em 0.5em 0.4em;box-sizing: border-box;padding-bottom: 0.4em;background-color: white;}#sk-container-id-7 div.sk-label label {font-family: monospace;font-weight: bold;display: inline-block;line-height: 1.2em;}#sk-container-id-7 div.sk-label-container {text-align: center;}#sk-container-id-7 div.sk-container {/* jupyter's `normalize.less` sets `[hidden] { display: none; }` but bootstrap.min.css set `[hidden] { display: none !important; }` so we also need the `!important` here to be able to override the default hidden behavior on the sphinx rendered scikit-learn.org. See: https://github.com/scikit-learn/scikit-learn/issues/21755 */display: inline-block !important;position: relative;}#sk-container-id-7 div.sk-text-repr-fallback {display: none;}</style><div id=\"sk-container-id-7\" class=\"sk-top-container\"><div class=\"sk-text-repr-fallback\"><pre>RandomForestClassifier(n_estimators=10)</pre><b>In a Jupyter environment, please rerun this cell to show the HTML representation or trust the notebook. <br />On GitHub, the HTML representation is unable to render, please try loading this page with nbviewer.org.</b></div><div class=\"sk-container\" hidden><div class=\"sk-item\"><div class=\"sk-estimator sk-toggleable\"><input class=\"sk-toggleable__control sk-hidden--visually\" id=\"sk-estimator-id-7\" type=\"checkbox\" checked><label for=\"sk-estimator-id-7\" class=\"sk-toggleable__label sk-toggleable__label-arrow\">RandomForestClassifier</label><div class=\"sk-toggleable__content\"><pre>RandomForestClassifier(n_estimators=10)</pre></div></div></div></div></div>"
      ],
      "text/plain": [
       "RandomForestClassifier(n_estimators=10)"
      ]
     },
     "execution_count": 65,
     "metadata": {},
     "output_type": "execute_result"
    }
   ],
   "source": [
    "model.fit(x_train, y_train)"
   ]
  },
  {
   "cell_type": "code",
   "execution_count": 66,
   "id": "4758a265",
   "metadata": {},
   "outputs": [],
   "source": [
    "y_pred = model.predict(x_test)"
   ]
  },
  {
   "cell_type": "code",
   "execution_count": 67,
   "id": "8fdad16e",
   "metadata": {},
   "outputs": [
    {
     "data": {
      "text/plain": [
       "0.9458563535911603"
      ]
     },
     "execution_count": 67,
     "metadata": {},
     "output_type": "execute_result"
    }
   ],
   "source": [
    "accuracy_score(y_test, y_pred)"
   ]
  },
  {
   "cell_type": "code",
   "execution_count": 70,
   "id": "c08c8966",
   "metadata": {},
   "outputs": [
    {
     "data": {
      "image/png": "[encoded data removed]",
      "text/plain": [
       "<Figure size 640x480 with 2 Axes>"
      ]
     },
     "metadata": {},
     "output_type": "display_data"
    }
   ],
   "source": [
    "# Confusion Matrix for RF\n",
    "phishing_confusion_matrix = confusion_matrix(y_test, y_pred)\n",
    "sb.heatmap(\n",
    "    phishing_confusion_matrix,\n",
    "    annot=True,\n",
    "    fmt=\"g\",\n",
    "    xticklabels=[\"Safe\", \"Phishing\"],\n",
    "    yticklabels=[\"Safe\", \"Phishing\"],\n",
    ")\n",
    "mplt.ylabel(\"Prediction\", fontsize=13)\n",
    "mplt.xlabel(\"Actual\", fontsize=13)\n",
    "mplt.title(\"Confusion Matrix\", fontsize=17)\n",
    "mplt.show()"
   ]
  },
  {
   "cell_type": "markdown",
   "id": "386dbc62",
   "metadata": {},
   "source": [
    "### SVC Classifier"
   ]
  },
  {
   "cell_type": "code",
   "execution_count": 71,
   "id": "89d5ceff",
   "metadata": {},
   "outputs": [],
   "source": [
    "from sklearn.svm import SVC\n",
    "model_svm= SVC(C = 100, gamma = \"auto\")"
   ]
  },
  {
   "cell_type": "code",
   "execution_count": 72,
   "id": "fce272f1",
   "metadata": {},
   "outputs": [
    {
     "data": {
      "text/html": [
       "<style>#sk-container-id-8 {color: black;}#sk-container-id-8 pre{padding: 0;}#sk-container-id-8 div.sk-toggleable {background-color: white;}#sk-container-id-8 label.sk-toggleable__label {cursor: pointer;display: block;width: 100%;margin-bottom: 0;padding: 0.3em;box-sizing: border-box;text-align: center;}#sk-container-id-8 label.sk-toggleable__label-arrow:before {content: \"▸\";float: left;margin-right: 0.25em;color: #696969;}#sk-container-id-8 label.sk-toggleable__label-arrow:hover:before {color: black;}#sk-container-id-8 div.sk-estimator:hover label.sk-toggleable__label-arrow:before {color: black;}#sk-container-id-8 div.sk-toggleable__content {max-height: 0;max-width: 0;overflow: hidden;text-align: left;background-color: #f0f8ff;}#sk-container-id-8 div.sk-toggleable__content pre {margin: 0.2em;color: black;border-radius: 0.25em;background-color: #f0f8ff;}#sk-container-id-8 input.sk-toggleable__control:checked~div.sk-toggleable__content {max-height: 200px;max-width: 100%;overflow: auto;}#sk-container-id-8 input.sk-toggleable__control:checked~label.sk-toggleable__label-arrow:before {content: \"▾\";}#sk-container-id-8 div.sk-estimator input.sk-toggleable__control:checked~label.sk-toggleable__label {background-color: #d4ebff;}#sk-container-id-8 div.sk-label input.sk-toggleable__control:checked~label.sk-toggleable__label {background-color: #d4ebff;}#sk-container-id-8 input.sk-hidden--visually {border: 0;clip: rect(1px 1px 1px 1px);clip: rect(1px, 1px, 1px, 1px);height: 1px;margin: -1px;overflow: hidden;padding: 0;position: absolute;width: 1px;}#sk-container-id-8 div.sk-estimator {font-family: monospace;background-color: #f0f8ff;border: 1px dotted black;border-radius: 0.25em;box-sizing: border-box;margin-bottom: 0.5em;}#sk-container-id-8 div.sk-estimator:hover {background-color: #d4ebff;}#sk-container-id-8 div.sk-parallel-item::after {content: \"\";width: 100%;border-bottom: 1px solid gray;flex-grow: 1;}#sk-container-id-8 div.sk-label:hover label.sk-toggleable__label {background-color: #d4ebff;}#sk-container-id-8 div.sk-serial::before {content: \"\";position: absolute;border-left: 1px solid gray;box-sizing: border-box;top: 0;bottom: 0;left: 50%;z-index: 0;}#sk-container-id-8 div.sk-serial {display: flex;flex-direction: column;align-items: center;background-color: white;padding-right: 0.2em;padding-left: 0.2em;position: relative;}#sk-container-id-8 div.sk-item {position: relative;z-index: 1;}#sk-container-id-8 div.sk-parallel {display: flex;align-items: stretch;justify-content: center;background-color: white;position: relative;}#sk-container-id-8 div.sk-item::before, #sk-container-id-8 div.sk-parallel-item::before {content: \"\";position: absolute;border-left: 1px solid gray;box-sizing: border-box;top: 0;bottom: 0;left: 50%;z-index: -1;}#sk-container-id-8 div.sk-parallel-item {display: flex;flex-direction: column;z-index: 1;position: relative;background-color: white;}#sk-container-id-8 div.sk-parallel-item:first-child::after {align-self: flex-end;width: 50%;}#sk-container-id-8 div.sk-parallel-item:last-child::after {align-self: flex-start;width: 50%;}#sk-container-id-8 div.sk-parallel-item:only-child::after {width: 0;}#sk-container-id-8 div.sk-dashed-wrapped {border: 1px dashed gray;margin: 0 0.4em 0.5em 0.4em;box-sizing: border-box;padding-bottom: 0.4em;background-color: white;}#sk-container-id-8 div.sk-label label {font-family: monospace;font-weight: bold;display: inline-block;line-height: 1.2em;}#sk-container-id-8 div.sk-label-container {text-align: center;}#sk-container-id-8 div.sk-container {/* jupyter's `normalize.less` sets `[hidden] { display: none; }` but bootstrap.min.css set `[hidden] { display: none !important; }` so we also need the `!important` here to be able to override the default hidden behavior on the sphinx rendered scikit-learn.org. See: https://github.com/scikit-learn/scikit-learn/issues/21755 */display: inline-block !important;position: relative;}#sk-container-id-8 div.sk-text-repr-fallback {display: none;}</style><div id=\"sk-container-id-8\" class=\"sk-top-container\"><div class=\"sk-text-repr-fallback\"><pre>SVC(C=100, gamma=&#x27;auto&#x27;)</pre><b>In a Jupyter environment, please rerun this cell to show the HTML representation or trust the notebook. <br />On GitHub, the HTML representation is unable to render, please try loading this page with nbviewer.org.</b></div><div class=\"sk-container\" hidden><div class=\"sk-item\"><div class=\"sk-estimator sk-toggleable\"><input class=\"sk-toggleable__control sk-hidden--visually\" id=\"sk-estimator-id-8\" type=\"checkbox\" checked><label for=\"sk-estimator-id-8\" class=\"sk-toggleable__label sk-toggleable__label-arrow\">SVC</label><div class=\"sk-toggleable__content\"><pre>SVC(C=100, gamma=&#x27;auto&#x27;)</pre></div></div></div></div></div>"
      ],
      "text/plain": [
       "SVC(C=100, gamma='auto')"
      ]
     },
     "execution_count": 72,
     "metadata": {},
     "output_type": "execute_result"
    }
   ],
   "source": [
    "model_svm.fit(x_train,y_train)"
   ]
  },
  {
   "cell_type": "code",
   "execution_count": 73,
   "id": "4c938a32",
   "metadata": {},
   "outputs": [
    {
     "data": {
      "text/plain": [
       "0.9577348066298342"
      ]
     },
     "execution_count": 73,
     "metadata": {},
     "output_type": "execute_result"
    }
   ],
   "source": [
    "s_ypred = model_svm.predict(x_test)\n",
    "accuracy_score(y_test,s_ypred )"
   ]
  },
  {
   "cell_type": "code",
   "execution_count": 74,
   "id": "26446a85",
   "metadata": {},
   "outputs": [
    {
     "data": {
      "image/png": "[encoded data removed]",
      "text/plain": [
       "<Figure size 640x480 with 2 Axes>"
      ]
     },
     "metadata": {},
     "output_type": "display_data"
    }
   ],
   "source": [
    "# Confusion Matrix for SVC\n",
    "phishing_confusion_matrix = confusion_matrix(y_test, s_ypred)\n",
    "sb.heatmap(\n",
    "    phishing_confusion_matrix,\n",
    "    annot=True,\n",
    "    fmt=\"g\",\n",
    "    xticklabels=[\"Safe\", \"Phishing\"],\n",
    "    yticklabels=[\"Safe\", \"Phishing\"],\n",
    ")\n",
    "mplt.ylabel(\"Prediction\", fontsize=13)\n",
    "mplt.xlabel(\"Actual\", fontsize=13)\n",
    "mplt.title(\"Confusion Matrix\", fontsize=17)\n",
    "mplt.show()"
   ]
  },
  {
   "cell_type": "markdown",
   "id": "48c26956",
   "metadata": {},
   "source": [
    "### XGB Classifier"
   ]
  },
  {
   "cell_type": "code",
   "execution_count": 75,
   "id": "0b394696",
   "metadata": {},
   "outputs": [],
   "source": [
    "from sklearn.model_selection import KFold\n",
    "num_folds = 5\n",
    "kfold = KFold(n_splits=num_folds, shuffle=True, random_state=42)"
   ]
  },
  {
   "cell_type": "code",
   "execution_count": 76,
   "id": "8c91de75",
   "metadata": {},
   "outputs": [],
   "source": [
    "from xgboost import XGBClassifier"
   ]
  },
  {
   "cell_type": "code",
   "execution_count": 77,
   "id": "baf20a40",
   "metadata": {},
   "outputs": [],
   "source": [
    "def print_report(y_val, y_pred, fold):\n",
    "    print(f'Fold: {fold}')\n",
    "    print(f'Accuracy Score: {accuracy_score(y_val, y_pred)}')\n",
    "    print(f'Confusion Matrix: \\n {confusion_matrix(y_val, y_pred)}')\n",
    "    print(f'Classification Report: \\n {classification_report(y_val, y_pred)}')"
   ]
  },
  {
   "cell_type": "code",
   "execution_count": 78,
   "id": "bf5a2321",
   "metadata": {},
   "outputs": [],
   "source": [
    "x_full_reset = x_full.reset_index(drop=True)\n",
    "y_reset = y.reset_index(drop=True)"
   ]
  },
  {
   "cell_type": "code",
   "execution_count": 79,
   "id": "1235c6f7",
   "metadata": {},
   "outputs": [],
   "source": [
    "from sklearn.preprocessing import LabelEncoder\n",
    "\n",
    "# Assuming 'y' is your target variable\n",
    "le = LabelEncoder()\n",
    "y_encoded = le.fit_transform(y)"
   ]
  },
  {
   "cell_type": "code",
   "execution_count": 80,
   "id": "3d824931",
   "metadata": {},
   "outputs": [
    {
     "name": "stdout",
     "output_type": "stream",
     "text": [
      "Fold: 1\n",
      "Accuracy Score: 0.9519337016574586\n",
      "Confusion Matrix: \n",
      " [[1272   88]\n",
      " [  86 2174]]\n",
      "Classification Report: \n",
      "               precision    recall  f1-score   support\n",
      "\n",
      "           0       0.94      0.94      0.94      1360\n",
      "           1       0.96      0.96      0.96      2260\n",
      "\n",
      "    accuracy                           0.95      3620\n",
      "   macro avg       0.95      0.95      0.95      3620\n",
      "weighted avg       0.95      0.95      0.95      3620\n",
      "\n",
      "Fold: 2\n",
      "Accuracy Score: 0.9541436464088398\n",
      "Confusion Matrix: \n",
      " [[1353   78]\n",
      " [  88 2101]]\n",
      "Classification Report: \n",
      "               precision    recall  f1-score   support\n",
      "\n",
      "           0       0.94      0.95      0.94      1431\n",
      "           1       0.96      0.96      0.96      2189\n",
      "\n",
      "    accuracy                           0.95      3620\n",
      "   macro avg       0.95      0.95      0.95      3620\n",
      "weighted avg       0.95      0.95      0.95      3620\n",
      "\n",
      "Fold: 3\n",
      "Accuracy Score: 0.9560773480662983\n",
      "Confusion Matrix: \n",
      " [[1341   58]\n",
      " [ 101 2120]]\n",
      "Classification Report: \n",
      "               precision    recall  f1-score   support\n",
      "\n",
      "           0       0.93      0.96      0.94      1399\n",
      "           1       0.97      0.95      0.96      2221\n",
      "\n",
      "    accuracy                           0.96      3620\n",
      "   macro avg       0.95      0.96      0.95      3620\n",
      "weighted avg       0.96      0.96      0.96      3620\n",
      "\n",
      "Fold: 4\n",
      "Accuracy Score: 0.9411602209944752\n",
      "Confusion Matrix: \n",
      " [[1281   95]\n",
      " [ 118 2126]]\n",
      "Classification Report: \n",
      "               precision    recall  f1-score   support\n",
      "\n",
      "           0       0.92      0.93      0.92      1376\n",
      "           1       0.96      0.95      0.95      2244\n",
      "\n",
      "    accuracy                           0.94      3620\n",
      "   macro avg       0.94      0.94      0.94      3620\n",
      "weighted avg       0.94      0.94      0.94      3620\n",
      "\n",
      "Fold: 5\n",
      "Accuracy Score: 0.9488950276243094\n",
      "Confusion Matrix: \n",
      " [[1333   78]\n",
      " [ 107 2102]]\n",
      "Classification Report: \n",
      "               precision    recall  f1-score   support\n",
      "\n",
      "           0       0.93      0.94      0.94      1411\n",
      "           1       0.96      0.95      0.96      2209\n",
      "\n",
      "    accuracy                           0.95      3620\n",
      "   macro avg       0.94      0.95      0.95      3620\n",
      "weighted avg       0.95      0.95      0.95      3620\n",
      "\n"
     ]
    }
   ],
   "source": [
    "fold = 1\n",
    "n_estim = 100\n",
    "for train_index, val_index in kfold.split(x_full_reset):\n",
    "    X_train, X_val = x_full_reset.iloc[train_index], x_full_reset.iloc[val_index]\n",
    "    y_train, y_val = y_encoded[train_index], y_encoded[val_index]\n",
    "    model = XGBClassifier(n_estimators=n_estim, learning_rate=0.1, max_depth=4, colsample_bytree=0.2, n_jobs=-1, random_state=42,enable_categorical=True)\n",
    "    model.fit(X_train, y_train)\n",
    "    y_pred = model.predict(X_val)\n",
    "    print_report(y_val, y_pred, fold)\n",
    "    fold += 1"
   ]
  },
  {
   "cell_type": "markdown",
   "id": "49537e5c",
   "metadata": {},
   "source": [
    "### ANN"
   ]
  },
  {
   "cell_type": "code",
   "execution_count": 45,
   "id": "155f0846",
   "metadata": {},
   "outputs": [
    {
     "name": "stdout",
     "output_type": "stream",
     "text": [
      "WARNING:tensorflow:From C:\\Users\\prins\\AppData\\Roaming\\Python\\Python311\\site-packages\\keras\\src\\losses.py:2976: The name tf.losses.sparse_softmax_cross_entropy is deprecated. Please use tf.compat.v1.losses.sparse_softmax_cross_entropy instead.\n",
      "\n"
     ]
    }
   ],
   "source": [
    "import tensorflow as tf\n",
    "from tensorflow.keras.models import Sequential\n",
    "from sklearn.preprocessing import StandardScaler\n",
    "from tensorflow.keras.layers import Dense, Dropout, LSTM"
   ]
  },
  {
   "cell_type": "code",
   "execution_count": 84,
   "id": "1a61a038",
   "metadata": {},
   "outputs": [
    {
     "name": "stdout",
     "output_type": "stream",
     "text": [
      "Epoch 1/10\n",
      "453/453 [==============================] - 3s 2ms/step - loss: 0.6713 - accuracy: 0.6141\n",
      "Epoch 2/10\n",
      "453/453 [==============================] - 1s 2ms/step - loss: 0.6578 - accuracy: 0.6156\n",
      "Epoch 3/10\n",
      "453/453 [==============================] - 1s 3ms/step - loss: 0.6357 - accuracy: 0.6326\n",
      "Epoch 4/10\n",
      "453/453 [==============================] - 1s 3ms/step - loss: 0.5879 - accuracy: 0.6833\n",
      "Epoch 5/10\n",
      "453/453 [==============================] - 1s 3ms/step - loss: 0.4982 - accuracy: 0.7517\n",
      "Epoch 6/10\n",
      "453/453 [==============================] - 1s 2ms/step - loss: 0.3967 - accuracy: 0.8119\n",
      "Epoch 7/10\n",
      "453/453 [==============================] - 1s 2ms/step - loss: 0.3152 - accuracy: 0.8573\n",
      "Epoch 8/10\n",
      "453/453 [==============================] - 1s 2ms/step - loss: 0.2622 - accuracy: 0.8831\n",
      "Epoch 9/10\n",
      "453/453 [==============================] - 1s 2ms/step - loss: 0.2332 - accuracy: 0.8974\n",
      "Epoch 10/10\n",
      "453/453 [==============================] - 1s 3ms/step - loss: 0.2036 - accuracy: 0.9061\n",
      "114/114 [==============================] - 0s 1ms/step\n",
      "Accuracy: 0.5082872928176796\n",
      "Classification Report:\n",
      "               precision    recall  f1-score   support\n",
      "\n",
      "           0       0.32      0.28      0.30      1360\n",
      "           1       0.60      0.64      0.62      2260\n",
      "\n",
      "    accuracy                           0.51      3620\n",
      "   macro avg       0.46      0.46      0.46      3620\n",
      "weighted avg       0.50      0.51      0.50      3620\n",
      "\n"
     ]
    }
   ],
   "source": [
    "scaler = StandardScaler()\n",
    "x_train = scaler.fit_transform(x_train)\n",
    "x_test = scaler.transform(x_test)\n",
    "\n",
    "label_encoder = LabelEncoder()\n",
    "y_test_int = label_encoder.fit_transform(y_test)\n",
    "\n",
    "model = Sequential()\n",
    "model.add(Dense(256, input_dim=x_train.shape[1], activation='relu'))\n",
    "model.add(Dense(128, activation='relu'))\n",
    "model.add(Dense(64, activation='relu'))\n",
    "model.add(Dense(32, activation='relu'))\n",
    "model.add(Dense(16, activation='relu'))\n",
    "model.add(Dense(1, activation='sigmoid'))\n",
    "\n",
    "model.compile(optimizer = 'adam', loss = 'binary_crossentropy', metrics = ['accuracy'])\n",
    "model.fit(x_train, y_train, epochs = 10)\n",
    "y_pred_prob = model.predict(x_test)\n",
    "y_pred_ann = (y_pred_prob > 0.5).astype(int)\n",
    "\n",
    "# Evaluate the model\n",
    "accuracy = accuracy_score(y_test_int, y_pred_ann)\n",
    "report = classification_report(y_test_int, y_pred_ann)\n",
    "\n",
    "print(f\"Accuracy: {accuracy}\")\n",
    "print(\"Classification Report:\\n\", report)"
   ]
  }
 ],
 "metadata": {
  "kernelspec": {
   "display_name": "Python 3 (ipykernel)",
   "language": "python",
   "name": "python3"
  },
  "language_info": {
   "codemirror_mode": {
    "name": "ipython",
    "version": 3
   },
   "file_extension": ".py",
   "mimetype": "text/x-python",
   "name": "python",
   "nbconvert_exporter": "python",
   "pygments_lexer": "ipython3",
   "version": "3.11.4"
  }
 },
 "nbformat": 4,
 "nbformat_minor": 5
}
